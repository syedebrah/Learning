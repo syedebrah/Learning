{
 "cells": [
  {
   "cell_type": "code",
   "execution_count": null,
   "id": "6ac43751",
   "metadata": {},
   "outputs": [
    {
     "name": "stdout",
     "output_type": "stream",
     "text": [
      "Note: you may need to restart the kernel to use updated packages.\n"
     ]
    }
   ],
   "source": [
    "! pip install -q -U google-generativeai"
   ]
  },
  {
   "cell_type": "code",
   "execution_count": 3,
   "id": "438733d2",
   "metadata": {},
   "outputs": [
    {
     "name": "stderr",
     "output_type": "stream",
     "text": [
      "d:\\python\\install\\Lib\\site-packages\\tqdm\\auto.py:21: TqdmWarning: IProgress not found. Please update jupyter and ipywidgets. See https://ipywidgets.readthedocs.io/en/stable/user_install.html\n",
      "  from .autonotebook import tqdm as notebook_tqdm\n"
     ]
    }
   ],
   "source": [
    "import google.generativeai as genai\n",
    "import pathlib\n",
    "import textwrap\n",
    "\n",
    "from IPython.display import display\n",
    "from IPython.display import Markdown\n",
    "\n",
    "\n",
    "def to_markdown(text):\n",
    "  text = text.replace('•', '  *')\n",
    "  return Markdown(textwrap.indent(text, '> ', predicate=lambda _: True))\n"
   ]
  },
  {
   "cell_type": "code",
   "execution_count": 1,
   "id": "00580e12",
   "metadata": {},
   "outputs": [
    {
     "ename": "NameError",
     "evalue": "name 'genai' is not defined",
     "output_type": "error",
     "traceback": [
      "\u001b[31m---------------------------------------------------------------------------\u001b[39m",
      "\u001b[31mNameError\u001b[39m                                 Traceback (most recent call last)",
      "\u001b[36mCell\u001b[39m\u001b[36m \u001b[39m\u001b[32mIn[1]\u001b[39m\u001b[32m, line 2\u001b[39m\n\u001b[32m      1\u001b[39m GOOGLE_API_KEY = \u001b[33m'\u001b[39m\u001b[33mAIzaSyC3qifQ3POSG_F5Mg43f-iqNdEHFPvwesQ1\u001b[39m\u001b[33m'\u001b[39m\n\u001b[32m----> \u001b[39m\u001b[32m2\u001b[39m \u001b[43mgenai\u001b[49m.configure(api_key=GOOGLE_API_KEY)\n\u001b[32m      3\u001b[39m model = genai.GenerativeModel(\u001b[33m'\u001b[39m\u001b[33mgemini-2.0-flash-exp\u001b[39m\u001b[33m'\u001b[39m)\n",
      "\u001b[31mNameError\u001b[39m: name 'genai' is not defined"
     ]
    }
   ],
   "source": [
    "GOOGLE_API_KEY = 'AIzaSyC3qifQ3POSG_F5Mg43f-iqNdEHFPvwesQ1'\n",
    "genai.configure(api_key=GOOGLE_API_KEY)\n",
    "model = genai.GenerativeModel('gemini-2.0-flash-exp')"
   ]
  },
  {
   "cell_type": "code",
   "execution_count": null,
   "id": "91a2cf98",
   "metadata": {},
   "outputs": [
    {
     "name": "stdout",
     "output_type": "stream",
     "text": [
      "Collecting langchain\n",
      "  Using cached langchain-0.3.26-py3-none-any.whl.metadata (7.8 kB)\n",
      "Collecting langchain-core<1.0.0,>=0.3.66 (from langchain)\n",
      "  Using cached langchain_core-0.3.68-py3-none-any.whl.metadata (5.8 kB)\n",
      "Collecting langchain-text-splitters<1.0.0,>=0.3.8 (from langchain)\n",
      "  Using cached langchain_text_splitters-0.3.8-py3-none-any.whl.metadata (1.9 kB)\n",
      "Collecting langsmith>=0.1.17 (from langchain)\n",
      "  Using cached langsmith-0.4.4-py3-none-any.whl.metadata (15 kB)\n",
      "Requirement already satisfied: pydantic<3.0.0,>=2.7.4 in d:\\python\\install\\lib\\site-packages (from langchain) (2.11.7)\n",
      "Collecting SQLAlchemy<3,>=1.4 (from langchain)\n",
      "  Using cached sqlalchemy-2.0.41-cp313-cp313-win_amd64.whl.metadata (9.8 kB)\n",
      "Requirement already satisfied: requests<3,>=2 in d:\\python\\install\\lib\\site-packages (from langchain) (2.32.4)\n",
      "Collecting PyYAML>=5.3 (from langchain)\n",
      "  Using cached PyYAML-6.0.2-cp313-cp313-win_amd64.whl.metadata (2.1 kB)\n",
      "Collecting tenacity!=8.4.0,<10.0.0,>=8.1.0 (from langchain-core<1.0.0,>=0.3.66->langchain)\n",
      "  Using cached tenacity-9.1.2-py3-none-any.whl.metadata (1.2 kB)\n",
      "Collecting jsonpatch<2.0,>=1.33 (from langchain-core<1.0.0,>=0.3.66->langchain)\n",
      "  Using cached jsonpatch-1.33-py2.py3-none-any.whl.metadata (3.0 kB)\n",
      "Collecting packaging<25,>=23.2 (from langchain-core<1.0.0,>=0.3.66->langchain)\n",
      "  Using cached packaging-24.2-py3-none-any.whl.metadata (3.2 kB)\n",
      "Requirement already satisfied: typing-extensions>=4.7 in d:\\python\\install\\lib\\site-packages (from langchain-core<1.0.0,>=0.3.66->langchain) (4.14.1)\n",
      "Collecting jsonpointer>=1.9 (from jsonpatch<2.0,>=1.33->langchain-core<1.0.0,>=0.3.66->langchain)\n",
      "  Using cached jsonpointer-3.0.0-py2.py3-none-any.whl.metadata (2.3 kB)\n",
      "Requirement already satisfied: annotated-types>=0.6.0 in d:\\python\\install\\lib\\site-packages (from pydantic<3.0.0,>=2.7.4->langchain) (0.7.0)\n",
      "Requirement already satisfied: pydantic-core==2.33.2 in d:\\python\\install\\lib\\site-packages (from pydantic<3.0.0,>=2.7.4->langchain) (2.33.2)\n",
      "Requirement already satisfied: typing-inspection>=0.4.0 in d:\\python\\install\\lib\\site-packages (from pydantic<3.0.0,>=2.7.4->langchain) (0.4.1)\n",
      "Requirement already satisfied: charset_normalizer<4,>=2 in d:\\python\\install\\lib\\site-packages (from requests<3,>=2->langchain) (3.4.2)\n",
      "Requirement already satisfied: idna<4,>=2.5 in d:\\python\\install\\lib\\site-packages (from requests<3,>=2->langchain) (3.10)\n",
      "Requirement already satisfied: urllib3<3,>=1.21.1 in d:\\python\\install\\lib\\site-packages (from requests<3,>=2->langchain) (2.5.0)\n",
      "Requirement already satisfied: certifi>=2017.4.17 in d:\\python\\install\\lib\\site-packages (from requests<3,>=2->langchain) (2025.7.9)\n",
      "Collecting greenlet>=1 (from SQLAlchemy<3,>=1.4->langchain)\n",
      "  Using cached greenlet-3.2.3-cp313-cp313-win_amd64.whl.metadata (4.2 kB)\n",
      "Collecting httpx<1,>=0.23.0 (from langsmith>=0.1.17->langchain)\n",
      "  Using cached httpx-0.28.1-py3-none-any.whl.metadata (7.1 kB)\n",
      "Collecting orjson<4.0.0,>=3.9.14 (from langsmith>=0.1.17->langchain)\n",
      "  Using cached orjson-3.10.18-cp313-cp313-win_amd64.whl.metadata (43 kB)\n",
      "Collecting requests-toolbelt<2.0.0,>=1.0.0 (from langsmith>=0.1.17->langchain)\n",
      "  Using cached requests_toolbelt-1.0.0-py2.py3-none-any.whl.metadata (14 kB)\n",
      "Collecting zstandard<0.24.0,>=0.23.0 (from langsmith>=0.1.17->langchain)\n",
      "  Using cached zstandard-0.23.0-cp313-cp313-win_amd64.whl.metadata (3.0 kB)\n",
      "Collecting anyio (from httpx<1,>=0.23.0->langsmith>=0.1.17->langchain)\n",
      "  Using cached anyio-4.9.0-py3-none-any.whl.metadata (4.7 kB)\n",
      "Collecting httpcore==1.* (from httpx<1,>=0.23.0->langsmith>=0.1.17->langchain)\n",
      "  Using cached httpcore-1.0.9-py3-none-any.whl.metadata (21 kB)\n",
      "Collecting h11>=0.16 (from httpcore==1.*->httpx<1,>=0.23.0->langsmith>=0.1.17->langchain)\n",
      "  Using cached h11-0.16.0-py3-none-any.whl.metadata (8.3 kB)\n",
      "Collecting sniffio>=1.1 (from anyio->httpx<1,>=0.23.0->langsmith>=0.1.17->langchain)\n",
      "  Using cached sniffio-1.3.1-py3-none-any.whl.metadata (3.9 kB)\n",
      "Using cached langchain-0.3.26-py3-none-any.whl (1.0 MB)\n",
      "Using cached langchain_core-0.3.68-py3-none-any.whl (441 kB)\n",
      "Using cached jsonpatch-1.33-py2.py3-none-any.whl (12 kB)\n",
      "Using cached langchain_text_splitters-0.3.8-py3-none-any.whl (32 kB)\n",
      "Using cached packaging-24.2-py3-none-any.whl (65 kB)\n",
      "Using cached sqlalchemy-2.0.41-cp313-cp313-win_amd64.whl (2.1 MB)\n",
      "Using cached tenacity-9.1.2-py3-none-any.whl (28 kB)\n",
      "Using cached greenlet-3.2.3-cp313-cp313-win_amd64.whl (297 kB)\n",
      "Using cached jsonpointer-3.0.0-py2.py3-none-any.whl (7.6 kB)\n",
      "Using cached langsmith-0.4.4-py3-none-any.whl (367 kB)\n",
      "Using cached httpx-0.28.1-py3-none-any.whl (73 kB)\n",
      "Using cached httpcore-1.0.9-py3-none-any.whl (78 kB)\n",
      "Using cached orjson-3.10.18-cp313-cp313-win_amd64.whl (134 kB)\n",
      "Using cached requests_toolbelt-1.0.0-py2.py3-none-any.whl (54 kB)\n",
      "Using cached zstandard-0.23.0-cp313-cp313-win_amd64.whl (495 kB)\n",
      "Using cached h11-0.16.0-py3-none-any.whl (37 kB)\n",
      "Using cached PyYAML-6.0.2-cp313-cp313-win_amd64.whl (156 kB)\n",
      "Using cached anyio-4.9.0-py3-none-any.whl (100 kB)\n",
      "Using cached sniffio-1.3.1-py3-none-any.whl (10 kB)\n",
      "Installing collected packages: zstandard, tenacity, sniffio, PyYAML, packaging, orjson, jsonpointer, h11, greenlet, SQLAlchemy, requests-toolbelt, jsonpatch, httpcore, anyio, httpx, langsmith, langchain-core, langchain-text-splitters, langchain\n",
      "\n",
      "   -- -------------------------------------  1/19 [tenacity]\n",
      "   ------ ---------------------------------  3/19 [PyYAML]\n",
      "   ------ ---------------------------------  3/19 [PyYAML]\n",
      "  Attempting uninstall: packaging\n",
      "   ------ ---------------------------------  3/19 [PyYAML]\n",
      "    Found existing installation: packaging 25.0\n",
      "   ------ ---------------------------------  3/19 [PyYAML]\n",
      "    Uninstalling packaging-25.0:\n",
      "   ------ ---------------------------------  3/19 [PyYAML]\n",
      "      Successfully uninstalled packaging-25.0\n",
      "   ------ ---------------------------------  3/19 [PyYAML]\n",
      "   -------- -------------------------------  4/19 [packaging]\n",
      "   -------- -------------------------------  4/19 [packaging]\n",
      "   -------------- -------------------------  7/19 [h11]\n",
      "   ---------------- -----------------------  8/19 [greenlet]\n",
      "   ---------------- -----------------------  8/19 [greenlet]\n",
      "   ---------------- -----------------------  8/19 [greenlet]\n",
      "   ------------------ ---------------------  9/19 [SQLAlchemy]\n",
      "   ------------------ ---------------------  9/19 [SQLAlchemy]\n",
      "   ------------------ ---------------------  9/19 [SQLAlchemy]\n",
      "   ------------------ ---------------------  9/19 [SQLAlchemy]\n",
      "   ------------------ ---------------------  9/19 [SQLAlchemy]\n",
      "   ------------------ ---------------------  9/19 [SQLAlchemy]\n",
      "   ------------------ ---------------------  9/19 [SQLAlchemy]\n",
      "   ------------------ ---------------------  9/19 [SQLAlchemy]\n",
      "   ------------------ ---------------------  9/19 [SQLAlchemy]\n",
      "   ------------------ ---------------------  9/19 [SQLAlchemy]\n",
      "   ------------------ ---------------------  9/19 [SQLAlchemy]\n",
      "   ------------------ ---------------------  9/19 [SQLAlchemy]\n",
      "   ------------------ ---------------------  9/19 [SQLAlchemy]\n",
      "   ------------------ ---------------------  9/19 [SQLAlchemy]\n",
      "   ------------------ ---------------------  9/19 [SQLAlchemy]\n",
      "   ------------------ ---------------------  9/19 [SQLAlchemy]\n",
      "   ------------------ ---------------------  9/19 [SQLAlchemy]\n",
      "   ------------------ ---------------------  9/19 [SQLAlchemy]\n",
      "   ------------------ ---------------------  9/19 [SQLAlchemy]\n",
      "   ------------------ ---------------------  9/19 [SQLAlchemy]\n",
      "   ------------------ ---------------------  9/19 [SQLAlchemy]\n",
      "   ------------------ ---------------------  9/19 [SQLAlchemy]\n",
      "   ------------------ ---------------------  9/19 [SQLAlchemy]\n",
      "   ------------------ ---------------------  9/19 [SQLAlchemy]\n",
      "   ------------------ ---------------------  9/19 [SQLAlchemy]\n",
      "   ------------------ ---------------------  9/19 [SQLAlchemy]\n",
      "   ------------------ ---------------------  9/19 [SQLAlchemy]\n",
      "   ------------------ ---------------------  9/19 [SQLAlchemy]\n",
      "   ------------------ ---------------------  9/19 [SQLAlchemy]\n",
      "   --------------------- ------------------ 10/19 [requests-toolbelt]\n",
      "   --------------------- ------------------ 10/19 [requests-toolbelt]\n",
      "   --------------------- ------------------ 10/19 [requests-toolbelt]\n",
      "   ------------------------- -------------- 12/19 [httpcore]\n",
      "   ------------------------- -------------- 12/19 [httpcore]\n",
      "   ------------------------- -------------- 12/19 [httpcore]\n",
      "   ------------------------- -------------- 12/19 [httpcore]\n",
      "   --------------------------- ------------ 13/19 [anyio]\n",
      "   --------------------------- ------------ 13/19 [anyio]\n",
      "   --------------------------- ------------ 13/19 [anyio]\n",
      "   --------------------------- ------------ 13/19 [anyio]\n",
      "   ----------------------------- ---------- 14/19 [httpx]\n",
      "   ----------------------------- ---------- 14/19 [httpx]\n",
      "   ----------------------------- ---------- 14/19 [httpx]\n",
      "   ------------------------------- -------- 15/19 [langsmith]\n",
      "   ------------------------------- -------- 15/19 [langsmith]\n",
      "   ------------------------------- -------- 15/19 [langsmith]\n",
      "   ------------------------------- -------- 15/19 [langsmith]\n",
      "   ------------------------------- -------- 15/19 [langsmith]\n",
      "   --------------------------------- ------ 16/19 [langchain-core]\n",
      "   --------------------------------- ------ 16/19 [langchain-core]\n",
      "   --------------------------------- ------ 16/19 [langchain-core]\n",
      "   --------------------------------- ------ 16/19 [langchain-core]\n",
      "   --------------------------------- ------ 16/19 [langchain-core]\n",
      "   --------------------------------- ------ 16/19 [langchain-core]\n",
      "   --------------------------------- ------ 16/19 [langchain-core]\n",
      "   --------------------------------- ------ 16/19 [langchain-core]\n",
      "   --------------------------------- ------ 16/19 [langchain-core]\n",
      "   --------------------------------- ------ 16/19 [langchain-core]\n",
      "   --------------------------------- ------ 16/19 [langchain-core]\n",
      "   --------------------------------- ------ 16/19 [langchain-core]\n",
      "   --------------------------------- ------ 16/19 [langchain-core]\n",
      "   --------------------------------- ------ 16/19 [langchain-core]\n",
      "   --------------------------------- ------ 16/19 [langchain-core]\n",
      "   --------------------------------- ------ 16/19 [langchain-core]\n",
      "   ----------------------------------- ---- 17/19 [langchain-text-splitters]\n",
      "   ------------------------------------- -- 18/19 [langchain]\n",
      "   ------------------------------------- -- 18/19 [langchain]\n",
      "   ------------------------------------- -- 18/19 [langchain]\n",
      "   ------------------------------------- -- 18/19 [langchain]\n",
      "   ------------------------------------- -- 18/19 [langchain]\n",
      "   ------------------------------------- -- 18/19 [langchain]\n",
      "   ------------------------------------- -- 18/19 [langchain]\n",
      "   ------------------------------------- -- 18/19 [langchain]\n",
      "   ------------------------------------- -- 18/19 [langchain]\n",
      "   ------------------------------------- -- 18/19 [langchain]\n",
      "   ------------------------------------- -- 18/19 [langchain]\n",
      "   ------------------------------------- -- 18/19 [langchain]\n",
      "   ------------------------------------- -- 18/19 [langchain]\n",
      "   ------------------------------------- -- 18/19 [langchain]\n",
      "   ------------------------------------- -- 18/19 [langchain]\n",
      "   ------------------------------------- -- 18/19 [langchain]\n",
      "   ------------------------------------- -- 18/19 [langchain]\n",
      "   ------------------------------------- -- 18/19 [langchain]\n",
      "   ------------------------------------- -- 18/19 [langchain]\n",
      "   ------------------------------------- -- 18/19 [langchain]\n",
      "   ------------------------------------- -- 18/19 [langchain]\n",
      "   ------------------------------------- -- 18/19 [langchain]\n",
      "   ------------------------------------- -- 18/19 [langchain]\n",
      "   ------------------------------------- -- 18/19 [langchain]\n",
      "   ------------------------------------- -- 18/19 [langchain]\n",
      "   ------------------------------------- -- 18/19 [langchain]\n",
      "   ------------------------------------- -- 18/19 [langchain]\n",
      "   ------------------------------------- -- 18/19 [langchain]\n",
      "   ------------------------------------- -- 18/19 [langchain]\n",
      "   ------------------------------------- -- 18/19 [langchain]\n",
      "   ------------------------------------- -- 18/19 [langchain]\n",
      "   ------------------------------------- -- 18/19 [langchain]\n",
      "   ------------------------------------- -- 18/19 [langchain]\n",
      "   ------------------------------------- -- 18/19 [langchain]\n",
      "   ------------------------------------- -- 18/19 [langchain]\n",
      "   ------------------------------------- -- 18/19 [langchain]\n",
      "   ------------------------------------- -- 18/19 [langchain]\n",
      "   ------------------------------------- -- 18/19 [langchain]\n",
      "   ------------------------------------- -- 18/19 [langchain]\n",
      "   ------------------------------------- -- 18/19 [langchain]\n",
      "   ------------------------------------- -- 18/19 [langchain]\n",
      "   ------------------------------------- -- 18/19 [langchain]\n",
      "   ------------------------------------- -- 18/19 [langchain]\n",
      "   ------------------------------------- -- 18/19 [langchain]\n",
      "   ------------------------------------- -- 18/19 [langchain]\n",
      "   ------------------------------------- -- 18/19 [langchain]\n",
      "   ------------------------------------- -- 18/19 [langchain]\n",
      "   ------------------------------------- -- 18/19 [langchain]\n",
      "   ------------------------------------- -- 18/19 [langchain]\n",
      "   ------------------------------------- -- 18/19 [langchain]\n",
      "   ------------------------------------- -- 18/19 [langchain]\n",
      "   ------------------------------------- -- 18/19 [langchain]\n",
      "   ------------------------------------- -- 18/19 [langchain]\n",
      "   ------------------------------------- -- 18/19 [langchain]\n",
      "   ------------------------------------- -- 18/19 [langchain]\n",
      "   ------------------------------------- -- 18/19 [langchain]\n",
      "   ------------------------------------- -- 18/19 [langchain]\n",
      "   ------------------------------------- -- 18/19 [langchain]\n",
      "   ------------------------------------- -- 18/19 [langchain]\n",
      "   ------------------------------------- -- 18/19 [langchain]\n",
      "   ------------------------------------- -- 18/19 [langchain]\n",
      "   ------------------------------------- -- 18/19 [langchain]\n",
      "   ------------------------------------- -- 18/19 [langchain]\n",
      "   ------------------------------------- -- 18/19 [langchain]\n",
      "   ------------------------------------- -- 18/19 [langchain]\n",
      "   ------------------------------------- -- 18/19 [langchain]\n",
      "   ------------------------------------- -- 18/19 [langchain]\n",
      "   ------------------------------------- -- 18/19 [langchain]\n",
      "   ------------------------------------- -- 18/19 [langchain]\n",
      "   ------------------------------------- -- 18/19 [langchain]\n",
      "   ------------------------------------- -- 18/19 [langchain]\n",
      "   ------------------------------------- -- 18/19 [langchain]\n",
      "   ------------------------------------- -- 18/19 [langchain]\n",
      "   ------------------------------------- -- 18/19 [langchain]\n",
      "   ------------------------------------- -- 18/19 [langchain]\n",
      "   ------------------------------------- -- 18/19 [langchain]\n",
      "   ------------------------------------- -- 18/19 [langchain]\n",
      "   ------------------------------------- -- 18/19 [langchain]\n",
      "   ------------------------------------- -- 18/19 [langchain]\n",
      "   ------------------------------------- -- 18/19 [langchain]\n",
      "   ------------------------------------- -- 18/19 [langchain]\n",
      "   ------------------------------------- -- 18/19 [langchain]\n",
      "   ------------------------------------- -- 18/19 [langchain]\n",
      "   ------------------------------------- -- 18/19 [langchain]\n",
      "   ------------------------------------- -- 18/19 [langchain]\n",
      "   ------------------------------------- -- 18/19 [langchain]\n",
      "   ------------------------------------- -- 18/19 [langchain]\n",
      "   ------------------------------------- -- 18/19 [langchain]\n",
      "   ------------------------------------- -- 18/19 [langchain]\n",
      "   ------------------------------------- -- 18/19 [langchain]\n",
      "   ------------------------------------- -- 18/19 [langchain]\n",
      "   ------------------------------------- -- 18/19 [langchain]\n",
      "   ------------------------------------- -- 18/19 [langchain]\n",
      "   ------------------------------------- -- 18/19 [langchain]\n",
      "   ------------------------------------- -- 18/19 [langchain]\n",
      "   ---------------------------------------- 19/19 [langchain]\n",
      "\n",
      "Successfully installed PyYAML-6.0.2 SQLAlchemy-2.0.41 anyio-4.9.0 greenlet-3.2.3 h11-0.16.0 httpcore-1.0.9 httpx-0.28.1 jsonpatch-1.33 jsonpointer-3.0.0 langchain-0.3.26 langchain-core-0.3.68 langchain-text-splitters-0.3.8 langsmith-0.4.4 orjson-3.10.18 packaging-24.2 requests-toolbelt-1.0.0 sniffio-1.3.1 tenacity-9.1.2 zstandard-0.23.0\n",
      "Note: you may need to restart the kernel to use updated packages.\n"
     ]
    },
    {
     "name": "stderr",
     "output_type": "stream",
     "text": [
      "  WARNING: The script httpx.exe is installed in 'd:\\python\\install\\Scripts' which is not on PATH.\n",
      "  Consider adding this directory to PATH or, if you prefer to suppress this warning, use --no-warn-script-location.\n"
     ]
    }
   ],
   "source": [
    "! pip install langchain"
   ]
  },
  {
   "cell_type": "code",
   "execution_count": 12,
   "id": "7f41329e",
   "metadata": {},
   "outputs": [
    {
     "name": "stdout",
     "output_type": "stream",
     "text": [
      "Requirement already satisfied: langchain_community in d:\\python\\install\\lib\\site-packages (0.3.27)\n",
      "Requirement already satisfied: langchain-core<1.0.0,>=0.3.66 in d:\\python\\install\\lib\\site-packages (from langchain_community) (0.3.68)\n",
      "Requirement already satisfied: langchain<1.0.0,>=0.3.26 in d:\\python\\install\\lib\\site-packages (from langchain_community) (0.3.26)\n",
      "Requirement already satisfied: SQLAlchemy<3,>=1.4 in d:\\python\\install\\lib\\site-packages (from langchain_community) (2.0.41)\n",
      "Requirement already satisfied: requests<3,>=2 in d:\\python\\install\\lib\\site-packages (from langchain_community) (2.32.4)\n",
      "Requirement already satisfied: PyYAML>=5.3 in d:\\python\\install\\lib\\site-packages (from langchain_community) (6.0.2)\n",
      "Requirement already satisfied: aiohttp<4.0.0,>=3.8.3 in d:\\python\\install\\lib\\site-packages (from langchain_community) (3.12.14)\n",
      "Requirement already satisfied: tenacity!=8.4.0,<10,>=8.1.0 in d:\\python\\install\\lib\\site-packages (from langchain_community) (9.1.2)\n",
      "Requirement already satisfied: dataclasses-json<0.7,>=0.5.7 in d:\\python\\install\\lib\\site-packages (from langchain_community) (0.6.7)\n",
      "Requirement already satisfied: pydantic-settings<3.0.0,>=2.4.0 in d:\\python\\install\\lib\\site-packages (from langchain_community) (2.10.1)\n",
      "Requirement already satisfied: langsmith>=0.1.125 in d:\\python\\install\\lib\\site-packages (from langchain_community) (0.4.4)\n",
      "Requirement already satisfied: httpx-sse<1.0.0,>=0.4.0 in d:\\python\\install\\lib\\site-packages (from langchain_community) (0.4.1)\n",
      "Requirement already satisfied: numpy>=2.1.0 in d:\\python\\install\\lib\\site-packages (from langchain_community) (2.3.1)\n",
      "Requirement already satisfied: aiohappyeyeballs>=2.5.0 in d:\\python\\install\\lib\\site-packages (from aiohttp<4.0.0,>=3.8.3->langchain_community) (2.6.1)\n",
      "Requirement already satisfied: aiosignal>=1.4.0 in d:\\python\\install\\lib\\site-packages (from aiohttp<4.0.0,>=3.8.3->langchain_community) (1.4.0)\n",
      "Requirement already satisfied: attrs>=17.3.0 in d:\\python\\install\\lib\\site-packages (from aiohttp<4.0.0,>=3.8.3->langchain_community) (25.3.0)\n",
      "Requirement already satisfied: frozenlist>=1.1.1 in d:\\python\\install\\lib\\site-packages (from aiohttp<4.0.0,>=3.8.3->langchain_community) (1.7.0)\n",
      "Requirement already satisfied: multidict<7.0,>=4.5 in d:\\python\\install\\lib\\site-packages (from aiohttp<4.0.0,>=3.8.3->langchain_community) (6.6.3)\n",
      "Requirement already satisfied: propcache>=0.2.0 in d:\\python\\install\\lib\\site-packages (from aiohttp<4.0.0,>=3.8.3->langchain_community) (0.3.2)\n",
      "Requirement already satisfied: yarl<2.0,>=1.17.0 in d:\\python\\install\\lib\\site-packages (from aiohttp<4.0.0,>=3.8.3->langchain_community) (1.20.1)\n",
      "Requirement already satisfied: marshmallow<4.0.0,>=3.18.0 in d:\\python\\install\\lib\\site-packages (from dataclasses-json<0.7,>=0.5.7->langchain_community) (3.26.1)\n",
      "Requirement already satisfied: typing-inspect<1,>=0.4.0 in d:\\python\\install\\lib\\site-packages (from dataclasses-json<0.7,>=0.5.7->langchain_community) (0.9.0)\n",
      "Requirement already satisfied: langchain-text-splitters<1.0.0,>=0.3.8 in d:\\python\\install\\lib\\site-packages (from langchain<1.0.0,>=0.3.26->langchain_community) (0.3.8)\n",
      "Requirement already satisfied: pydantic<3.0.0,>=2.7.4 in d:\\python\\install\\lib\\site-packages (from langchain<1.0.0,>=0.3.26->langchain_community) (2.11.7)\n",
      "Requirement already satisfied: jsonpatch<2.0,>=1.33 in d:\\python\\install\\lib\\site-packages (from langchain-core<1.0.0,>=0.3.66->langchain_community) (1.33)\n",
      "Requirement already satisfied: packaging<25,>=23.2 in d:\\python\\install\\lib\\site-packages (from langchain-core<1.0.0,>=0.3.66->langchain_community) (24.2)\n",
      "Requirement already satisfied: typing-extensions>=4.7 in d:\\python\\install\\lib\\site-packages (from langchain-core<1.0.0,>=0.3.66->langchain_community) (4.14.1)\n",
      "Requirement already satisfied: jsonpointer>=1.9 in d:\\python\\install\\lib\\site-packages (from jsonpatch<2.0,>=1.33->langchain-core<1.0.0,>=0.3.66->langchain_community) (3.0.0)\n",
      "Requirement already satisfied: annotated-types>=0.6.0 in d:\\python\\install\\lib\\site-packages (from pydantic<3.0.0,>=2.7.4->langchain<1.0.0,>=0.3.26->langchain_community) (0.7.0)\n",
      "Requirement already satisfied: pydantic-core==2.33.2 in d:\\python\\install\\lib\\site-packages (from pydantic<3.0.0,>=2.7.4->langchain<1.0.0,>=0.3.26->langchain_community) (2.33.2)\n",
      "Requirement already satisfied: typing-inspection>=0.4.0 in d:\\python\\install\\lib\\site-packages (from pydantic<3.0.0,>=2.7.4->langchain<1.0.0,>=0.3.26->langchain_community) (0.4.1)\n",
      "Requirement already satisfied: python-dotenv>=0.21.0 in d:\\python\\install\\lib\\site-packages (from pydantic-settings<3.0.0,>=2.4.0->langchain_community) (1.1.1)\n",
      "Requirement already satisfied: charset_normalizer<4,>=2 in d:\\python\\install\\lib\\site-packages (from requests<3,>=2->langchain_community) (3.4.2)\n",
      "Requirement already satisfied: idna<4,>=2.5 in d:\\python\\install\\lib\\site-packages (from requests<3,>=2->langchain_community) (3.10)\n",
      "Requirement already satisfied: urllib3<3,>=1.21.1 in d:\\python\\install\\lib\\site-packages (from requests<3,>=2->langchain_community) (2.5.0)\n",
      "Requirement already satisfied: certifi>=2017.4.17 in d:\\python\\install\\lib\\site-packages (from requests<3,>=2->langchain_community) (2025.7.9)\n",
      "Requirement already satisfied: greenlet>=1 in d:\\python\\install\\lib\\site-packages (from SQLAlchemy<3,>=1.4->langchain_community) (3.2.3)\n",
      "Requirement already satisfied: mypy-extensions>=0.3.0 in d:\\python\\install\\lib\\site-packages (from typing-inspect<1,>=0.4.0->dataclasses-json<0.7,>=0.5.7->langchain_community) (1.1.0)\n",
      "Requirement already satisfied: httpx<1,>=0.23.0 in d:\\python\\install\\lib\\site-packages (from langsmith>=0.1.125->langchain_community) (0.28.1)\n",
      "Requirement already satisfied: orjson<4.0.0,>=3.9.14 in d:\\python\\install\\lib\\site-packages (from langsmith>=0.1.125->langchain_community) (3.10.18)\n",
      "Requirement already satisfied: requests-toolbelt<2.0.0,>=1.0.0 in d:\\python\\install\\lib\\site-packages (from langsmith>=0.1.125->langchain_community) (1.0.0)\n",
      "Requirement already satisfied: zstandard<0.24.0,>=0.23.0 in d:\\python\\install\\lib\\site-packages (from langsmith>=0.1.125->langchain_community) (0.23.0)\n",
      "Requirement already satisfied: anyio in d:\\python\\install\\lib\\site-packages (from httpx<1,>=0.23.0->langsmith>=0.1.125->langchain_community) (4.9.0)\n",
      "Requirement already satisfied: httpcore==1.* in d:\\python\\install\\lib\\site-packages (from httpx<1,>=0.23.0->langsmith>=0.1.125->langchain_community) (1.0.9)\n",
      "Requirement already satisfied: h11>=0.16 in d:\\python\\install\\lib\\site-packages (from httpcore==1.*->httpx<1,>=0.23.0->langsmith>=0.1.125->langchain_community) (0.16.0)\n",
      "Requirement already satisfied: sniffio>=1.1 in d:\\python\\install\\lib\\site-packages (from anyio->httpx<1,>=0.23.0->langsmith>=0.1.125->langchain_community) (1.3.1)\n",
      "Note: you may need to restart the kernel to use updated packages.\n"
     ]
    }
   ],
   "source": [
    "pip install langchain_community"
   ]
  },
  {
   "cell_type": "code",
   "execution_count": 26,
   "id": "f16e575b",
   "metadata": {},
   "outputs": [
    {
     "name": "stdout",
     "output_type": "stream",
     "text": [
      "Collecting pypdf\n",
      "  Using cached pypdf-5.7.0-py3-none-any.whl.metadata (7.2 kB)\n",
      "Using cached pypdf-5.7.0-py3-none-any.whl (305 kB)\n",
      "Installing collected packages: pypdf\n",
      "Successfully installed pypdf-5.7.0\n",
      "Note: you may need to restart the kernel to use updated packages.\n"
     ]
    }
   ],
   "source": [
    " pip install pypdf"
   ]
  },
  {
   "cell_type": "code",
   "execution_count": 19,
   "id": "5af3433e",
   "metadata": {},
   "outputs": [],
   "source": [
    "from langchain_community.document_loaders import PyPDFLoader"
   ]
  },
  {
   "cell_type": "code",
   "execution_count": 23,
   "id": "41ad2201",
   "metadata": {},
   "outputs": [],
   "source": [
    "loader = PyPDFLoader(\"./MachineLearning-Lecture01.pdf\")\n"
   ]
  },
  {
   "cell_type": "code",
   "execution_count": 28,
   "id": "4fa70d6a",
   "metadata": {},
   "outputs": [],
   "source": [
    "\n",
    "pages = loader.load()"
   ]
  },
  {
   "cell_type": "code",
   "execution_count": 29,
   "id": "677a92ed",
   "metadata": {},
   "outputs": [
    {
     "data": {
      "text/plain": [
       "22"
      ]
     },
     "execution_count": 29,
     "metadata": {},
     "output_type": "execute_result"
    }
   ],
   "source": [
    "len(pages)"
   ]
  },
  {
   "cell_type": "code",
   "execution_count": 30,
   "id": "772853d6",
   "metadata": {},
   "outputs": [],
   "source": [
    "page = pages[0]"
   ]
  },
  {
   "cell_type": "code",
   "execution_count": 32,
   "id": "43be71fc",
   "metadata": {},
   "outputs": [
    {
     "name": "stdout",
     "output_type": "stream",
     "text": [
      "MachineLearning-Lecture01  \n",
      "Instructor (Andrew Ng): Okay. Good morning. Welcome to CS229, the machine \n",
      "learning class. So what I wanna do today is just spend a little time going over the logistics \n",
      "of the class, and then we'll start to talk a bit about machine learning.  \n",
      "By way of introduction, my name's Andrew Ng and I'll be instructor for this class. And so \n",
      "I personally work in machine learning, and I've worked on it for about 15 years now, and \n",
      "I actually think that machine learning is the most exciting field of all the computer \n",
      "sciences. So I'm actually always excited about teaching this class. Sometimes I actually \n",
      "think that machine learning is not only the most exciting thing in computer science, but \n",
      "the most exciting thing in all of human endeavor, so maybe a little bias there.  \n",
      "I also want to introduce the TAs, who are all graduate students doing research in or \n",
      "related to the machine learning and all aspects of machine learning. Paul Baumstarck \n",
      "works in machine learning\n"
     ]
    }
   ],
   "source": [
    "print(page.page_content[0:1000])"
   ]
  },
  {
   "cell_type": "code",
   "execution_count": 33,
   "id": "b943def2",
   "metadata": {},
   "outputs": [
    {
     "data": {
      "text/plain": [
       "{'producer': 'Acrobat Distiller 8.1.0 (Windows)',\n",
       " 'creator': 'PScript5.dll Version 5.2.2',\n",
       " 'creationdate': '2008-07-11T11:25:23-07:00',\n",
       " 'author': '',\n",
       " 'moddate': '2008-07-11T11:25:23-07:00',\n",
       " 'title': '',\n",
       " 'source': './MachineLearning-Lecture01.pdf',\n",
       " 'total_pages': 22,\n",
       " 'page': 0,\n",
       " 'page_label': '1'}"
      ]
     },
     "execution_count": 33,
     "metadata": {},
     "output_type": "execute_result"
    }
   ],
   "source": [
    "page.metadata"
   ]
  },
  {
   "cell_type": "code",
   "execution_count": null,
   "id": "fdead873",
   "metadata": {},
   "outputs": [
    {
     "name": "stdout",
     "output_type": "stream",
     "text": [
      "Collecting SpeechRecognition\n",
      "  Downloading speechrecognition-3.14.3-py3-none-any.whl.metadata (30 kB)\n",
      "Requirement already satisfied: typing-extensions in d:\\python\\install\\lib\\site-packages (from SpeechRecognition) (4.14.1)\n",
      "Collecting standard-aifc (from SpeechRecognition)\n",
      "  Downloading standard_aifc-3.13.0-py3-none-any.whl.metadata (969 bytes)\n",
      "Collecting audioop-lts (from SpeechRecognition)\n",
      "  Downloading audioop_lts-0.2.1-cp313-abi3-win_amd64.whl.metadata (1.7 kB)\n",
      "Collecting standard-chunk (from standard-aifc->SpeechRecognition)\n",
      "  Downloading standard_chunk-3.13.0-py3-none-any.whl.metadata (860 bytes)\n",
      "Downloading speechrecognition-3.14.3-py3-none-any.whl (32.9 MB)\n",
      "   ---------------------------------------- 0.0/32.9 MB ? eta -:--:--\n",
      "   - -------------------------------------- 1.0/32.9 MB 6.5 MB/s eta 0:00:05\n",
      "   -- ------------------------------------- 1.8/32.9 MB 4.8 MB/s eta 0:00:07\n",
      "   -- ------------------------------------- 2.4/32.9 MB 4.6 MB/s eta 0:00:07\n",
      "   ---- ----------------------------------- 3.4/32.9 MB 4.2 MB/s eta 0:00:07\n",
      "   ----- ---------------------------------- 4.2/32.9 MB 4.2 MB/s eta 0:00:07\n",
      "   ------ --------------------------------- 5.0/32.9 MB 4.2 MB/s eta 0:00:07\n",
      "   ------- -------------------------------- 5.8/32.9 MB 4.1 MB/s eta 0:00:07\n",
      "   ------- -------------------------------- 6.6/32.9 MB 4.1 MB/s eta 0:00:07\n",
      "   -------- ------------------------------- 7.3/32.9 MB 4.1 MB/s eta 0:00:07\n",
      "   ---------- ----------------------------- 8.4/32.9 MB 4.0 MB/s eta 0:00:07\n",
      "   ----------- ---------------------------- 9.2/32.9 MB 4.0 MB/s eta 0:00:06\n",
      "   ------------ --------------------------- 10.0/32.9 MB 4.0 MB/s eta 0:00:06\n",
      "   ------------- -------------------------- 10.7/32.9 MB 4.0 MB/s eta 0:00:06\n",
      "   -------------- ------------------------- 11.5/32.9 MB 4.0 MB/s eta 0:00:06\n",
      "   --------------- ------------------------ 12.3/32.9 MB 4.0 MB/s eta 0:00:06\n",
      "   --------------- ------------------------ 13.1/32.9 MB 4.0 MB/s eta 0:00:05\n",
      "   ---------------- ----------------------- 13.9/32.9 MB 4.0 MB/s eta 0:00:05\n",
      "   ----------------- ---------------------- 14.7/32.9 MB 4.0 MB/s eta 0:00:05\n",
      "   ------------------ --------------------- 15.5/32.9 MB 4.0 MB/s eta 0:00:05\n",
      "   ------------------- -------------------- 16.3/32.9 MB 4.0 MB/s eta 0:00:05\n",
      "   -------------------- ------------------- 17.0/32.9 MB 4.0 MB/s eta 0:00:04\n",
      "   --------------------- ------------------ 17.8/32.9 MB 4.0 MB/s eta 0:00:04\n",
      "   ---------------------- ----------------- 18.6/32.9 MB 4.0 MB/s eta 0:00:04\n",
      "   ----------------------- ---------------- 19.4/32.9 MB 4.0 MB/s eta 0:00:04\n",
      "   ------------------------ --------------- 20.4/32.9 MB 4.0 MB/s eta 0:00:04\n",
      "   ------------------------- -------------- 21.0/32.9 MB 3.9 MB/s eta 0:00:04\n",
      "   -------------------------- ------------- 22.0/32.9 MB 3.9 MB/s eta 0:00:03\n",
      "   --------------------------- ------------ 22.8/32.9 MB 3.9 MB/s eta 0:00:03\n",
      "   ---------------------------- ----------- 23.6/32.9 MB 3.9 MB/s eta 0:00:03\n",
      "   ----------------------------- ---------- 24.4/32.9 MB 3.9 MB/s eta 0:00:03\n",
      "   ------------------------------ --------- 25.2/32.9 MB 3.9 MB/s eta 0:00:02\n",
      "   ------------------------------- -------- 26.0/32.9 MB 3.9 MB/s eta 0:00:02\n",
      "   -------------------------------- ------- 26.7/32.9 MB 3.9 MB/s eta 0:00:02\n",
      "   --------------------------------- ------ 27.5/32.9 MB 3.9 MB/s eta 0:00:02\n",
      "   ---------------------------------- ----- 28.3/32.9 MB 3.9 MB/s eta 0:00:02\n",
      "   ----------------------------------- ---- 29.4/32.9 MB 3.9 MB/s eta 0:00:01\n",
      "   ------------------------------------ --- 30.1/32.9 MB 3.9 MB/s eta 0:00:01\n",
      "   ------------------------------------- -- 30.9/32.9 MB 3.9 MB/s eta 0:00:01\n",
      "   -------------------------------------- - 31.7/32.9 MB 3.9 MB/s eta 0:00:01\n",
      "   ---------------------------------------  32.5/32.9 MB 3.9 MB/s eta 0:00:01\n",
      "   ---------------------------------------- 32.9/32.9 MB 3.9 MB/s eta 0:00:00\n",
      "Downloading audioop_lts-0.2.1-cp313-abi3-win_amd64.whl (30 kB)\n",
      "Downloading standard_aifc-3.13.0-py3-none-any.whl (10 kB)\n",
      "Downloading standard_chunk-3.13.0-py3-none-any.whl (4.9 kB)\n",
      "Installing collected packages: standard-chunk, audioop-lts, standard-aifc, SpeechRecognition\n",
      "\n",
      "   ------------------------------ --------- 3/4 [SpeechRecognition]\n",
      "   ------------------------------ --------- 3/4 [SpeechRecognition]\n",
      "   ------------------------------ --------- 3/4 [SpeechRecognition]\n",
      "   ---------------------------------------- 4/4 [SpeechRecognition]\n",
      "\n",
      "Successfully installed SpeechRecognition-3.14.3 audioop-lts-0.2.1 standard-aifc-3.13.0 standard-chunk-3.13.0\n",
      "Note: you may need to restart the kernel to use updated packages.\n"
     ]
    }
   ],
   "source": [
    "! pip install SpeechRecognition\n",
    "! pip install pydub"
   ]
  },
  {
   "cell_type": "code",
   "execution_count": 2,
   "id": "d68498d5",
   "metadata": {},
   "outputs": [
    {
     "name": "stdout",
     "output_type": "stream",
     "text": [
      "you just want to take a minute\n"
     ]
    }
   ],
   "source": [
    "import speech_recognition as sr\n",
    "\n",
    "recognizer = sr.Recognizer()\n",
    "with sr.AudioFile(\"Conference.wav\") as source:\n",
    "    audio = recognizer.record(source)\n",
    "\n",
    "text = recognizer.recognize_google(audio)\n",
    "print(text)\n"
   ]
  },
  {
   "cell_type": "code",
   "execution_count": 12,
   "id": "07411c63",
   "metadata": {},
   "outputs": [
    {
     "name": "stdout",
     "output_type": "stream",
     "text": [
      "Collecting beautifulsoup4\n",
      "  Using cached beautifulsoup4-4.13.4-py3-none-any.whl.metadata (3.8 kB)\n",
      "Collecting soupsieve>1.2 (from beautifulsoup4)\n",
      "  Using cached soupsieve-2.7-py3-none-any.whl.metadata (4.6 kB)\n",
      "Requirement already satisfied: typing-extensions>=4.0.0 in d:\\python\\install\\lib\\site-packages (from beautifulsoup4) (4.14.1)\n",
      "Using cached beautifulsoup4-4.13.4-py3-none-any.whl (187 kB)\n",
      "Using cached soupsieve-2.7-py3-none-any.whl (36 kB)\n",
      "Installing collected packages: soupsieve, beautifulsoup4\n",
      "\n",
      "   -------------------- ------------------- 1/2 [beautifulsoup4]\n",
      "   -------------------- ------------------- 1/2 [beautifulsoup4]\n",
      "   -------------------- ------------------- 1/2 [beautifulsoup4]\n",
      "   -------------------- ------------------- 1/2 [beautifulsoup4]\n",
      "   ---------------------------------------- 2/2 [beautifulsoup4]\n",
      "\n",
      "Successfully installed beautifulsoup4-4.13.4 soupsieve-2.7\n",
      "Note: you may need to restart the kernel to use updated packages.\n"
     ]
    }
   ],
   "source": [
    "pip install beautifulsoup4"
   ]
  },
  {
   "cell_type": "code",
   "execution_count": 13,
   "id": "282f98ce",
   "metadata": {},
   "outputs": [],
   "source": [
    "from bs4 import BeautifulSoup"
   ]
  },
  {
   "cell_type": "code",
   "execution_count": 22,
   "id": "ffc464ab",
   "metadata": {},
   "outputs": [],
   "source": [
    "from bs4 import BeautifulSoup\n",
    "from langchain_community.document_loaders import WebBaseLoader\n",
    "\n",
    "loader = WebBaseLoader(\"https://raw.githubusercontent.com/basecamp/handbook/master/titles-for-programmers.md\")\n",
    "\n",
    "docs = loader.load()\n"
   ]
  },
  {
   "cell_type": "code",
   "execution_count": 23,
   "id": "59c56b33",
   "metadata": {},
   "outputs": [],
   "source": [
    "docs = loader.load()"
   ]
  },
  {
   "cell_type": "code",
   "execution_count": 25,
   "id": "3ae1d859",
   "metadata": {},
   "outputs": [
    {
     "name": "stdout",
     "output_type": "stream",
     "text": [
      "# Titles for Programmers\n",
      "\n",
      "## Programming Management\n",
      "\n",
      "On Web and SIP programming teams, Lead Programmers (L4) and Principal Programmers (L5) act as tech leads to Junior - Senior Programmers (L1-3). All Leads and Principals report directly to our CTO. Tech leads are responsible for:\n",
      "- Reviewing a report's substantial PRs before they're shipped.\n",
      "- Having a kick-off conversation with a report on every substantial project.\n",
      "- Reviewing a report's on-call work and handoff after every shift.\n",
      "- Providing\n"
     ]
    }
   ],
   "source": [
    "print(docs[0].page_content[:500])"
   ]
  },
  {
   "cell_type": "code",
   "execution_count": null,
   "id": "49f366ea",
   "metadata": {},
   "outputs": [],
   "source": []
  }
 ],
 "metadata": {
  "kernelspec": {
   "display_name": "Python 3",
   "language": "python",
   "name": "python3"
  },
  "language_info": {
   "codemirror_mode": {
    "name": "ipython",
    "version": 3
   },
   "file_extension": ".py",
   "mimetype": "text/x-python",
   "name": "python",
   "nbconvert_exporter": "python",
   "pygments_lexer": "ipython3",
   "version": "3.13.5"
  }
 },
 "nbformat": 4,
 "nbformat_minor": 5
}
