{
 "cells": [
  {
   "cell_type": "code",
   "execution_count": 1,
   "id": "ed281ff1",
   "metadata": {},
   "outputs": [
    {
     "name": "stderr",
     "output_type": "stream",
     "text": [
      "d:\\python\\install\\Lib\\site-packages\\tqdm\\auto.py:21: TqdmWarning: IProgress not found. Please update jupyter and ipywidgets. See https://ipywidgets.readthedocs.io/en/stable/user_install.html\n",
      "  from .autonotebook import tqdm as notebook_tqdm\n"
     ]
    }
   ],
   "source": [
    "import google.generativeai as genai\n",
    "import pathlib\n",
    "import textwrap\n",
    "\n",
    "from IPython.display import display\n",
    "from IPython.display import Markdown\n",
    "\n",
    "\n",
    "def to_markdown(text):\n",
    "  text = text.replace('•', '  *')\n",
    "  return Markdown(textwrap.indent(text, '> ', predicate=lambda _: True))\n"
   ]
  },
  {
   "cell_type": "code",
   "execution_count": 3,
   "id": "2f037b6e",
   "metadata": {},
   "outputs": [],
   "source": [
    "from langchain.text_splitter import RecursiveCharacterTextSplitter, CharacterTextSplitter"
   ]
  },
  {
   "cell_type": "code",
   "execution_count": 4,
   "id": "52514670",
   "metadata": {},
   "outputs": [],
   "source": [
    "chunk_size =26\n",
    "chunk_overlap = 4"
   ]
  },
  {
   "cell_type": "code",
   "execution_count": 5,
   "id": "37b3a555",
   "metadata": {},
   "outputs": [],
   "source": [
    "r_splitter = RecursiveCharacterTextSplitter(\n",
    "    chunk_size=chunk_size,\n",
    "    chunk_overlap=chunk_overlap\n",
    ")\n",
    "c_splitter = CharacterTextSplitter(\n",
    "    chunk_size=chunk_size,\n",
    "    chunk_overlap=chunk_overlap\n",
    ")"
   ]
  },
  {
   "cell_type": "code",
   "execution_count": 6,
   "id": "07056297",
   "metadata": {},
   "outputs": [],
   "source": [
    "text1 = 'abcdefghijklmnopqrstuvwxyz'"
   ]
  },
  {
   "cell_type": "code",
   "execution_count": 8,
   "id": "b8935bf4",
   "metadata": {},
   "outputs": [
    {
     "data": {
      "text/plain": [
       "['abcdefghijklmnopqrstuvwxyz']"
      ]
     },
     "execution_count": 8,
     "metadata": {},
     "output_type": "execute_result"
    }
   ],
   "source": [
    "r_splitter.split_text(text1)"
   ]
  },
  {
   "cell_type": "code",
   "execution_count": 9,
   "id": "e6fa28d7",
   "metadata": {},
   "outputs": [],
   "source": [
    "text2 = 'abcdefghijklmnopqrstuvwxyzabcdefg'"
   ]
  },
  {
   "cell_type": "code",
   "execution_count": 10,
   "id": "ff87eab4",
   "metadata": {},
   "outputs": [
    {
     "data": {
      "text/plain": [
       "['abcdefghijklmnopqrstuvwxyz', 'wxyzabcdefg']"
      ]
     },
     "execution_count": 10,
     "metadata": {},
     "output_type": "execute_result"
    }
   ],
   "source": [
    "r_splitter.split_text(text2)"
   ]
  },
  {
   "cell_type": "code",
   "execution_count": null,
   "id": "966d434b",
   "metadata": {},
   "outputs": [],
   "source": [
    "#Ok, this splits the string but we have an overlap specified as 5, but it looks like 3? (try an even number)"
   ]
  },
  {
   "cell_type": "code",
   "execution_count": 11,
   "id": "866d063e",
   "metadata": {},
   "outputs": [],
   "source": [
    "text3 = \"a b c d e f g h i j k l m n o p q r s t u v w x y z\""
   ]
  },
  {
   "cell_type": "code",
   "execution_count": 12,
   "id": "59b868b1",
   "metadata": {},
   "outputs": [
    {
     "data": {
      "text/plain": [
       "['a b c d e f g h i j k l m', 'l m n o p q r s t u v w x', 'w x y z']"
      ]
     },
     "execution_count": 12,
     "metadata": {},
     "output_type": "execute_result"
    }
   ],
   "source": [
    "r_splitter.split_text(text3)"
   ]
  },
  {
   "cell_type": "code",
   "execution_count": 13,
   "id": "b926ff5d",
   "metadata": {},
   "outputs": [
    {
     "data": {
      "text/plain": [
       "['a b c d e f g h i j k l m n o p q r s t u v w x y z']"
      ]
     },
     "execution_count": 13,
     "metadata": {},
     "output_type": "execute_result"
    }
   ],
   "source": [
    "c_splitter.split_text(text3)"
   ]
  },
  {
   "cell_type": "code",
   "execution_count": null,
   "id": "46289a61",
   "metadata": {},
   "outputs": [
    {
     "data": {
      "text/plain": [
       "['a b c d e f g h i j k l m', 'l m n o p q r s t u v w x', 'w x y z']"
      ]
     },
     "execution_count": 16,
     "metadata": {},
     "output_type": "execute_result"
    }
   ],
   "source": [
    "#CharacterTextSplitter needs seperator \n",
    "c_splitter = CharacterTextSplitter(\n",
    "    chunk_size=chunk_size,\n",
    "    chunk_overlap=chunk_overlap,\n",
    "    separator = ' '\n",
    ")\n",
    "c_splitter.split_text(text3)"
   ]
  },
  {
   "cell_type": "markdown",
   "id": "9526566a",
   "metadata": {},
   "source": [
    "\n",
    "\n",
    "### ❓ Why `CharacterTextSplitter` without `separator` gives only **one chunk**:\n",
    "\n",
    "When you do **not specify** the `separator`, the `CharacterTextSplitter` behaves **differently**:\n",
    "\n",
    "```python\n",
    "c_splitter = CharacterTextSplitter(\n",
    "    chunk_size=26,\n",
    "    chunk_overlap=4\n",
    "    # no separator!\n",
    ")\n",
    "```\n",
    "\n",
    "Then you call:\n",
    "\n",
    "```python\n",
    "c_splitter.split_text(\"a b c d e f g h i j k l m n o p q r s t u v w x y z\")\n",
    "```\n",
    "\n",
    "---\n",
    "\n",
    "### 🔍 Here's what happens:\n",
    "\n",
    "* The splitter tries to **split the text at characters**.\n",
    "* But because no separator (like space or newline) is specified, it doesn't know **where to break** the text nicely.\n",
    "* So instead of breaking into pieces, it treats the **entire text as a single block**.\n",
    "\n",
    "---\n",
    "\n",
    "### 📌 Result:\n",
    "\n",
    "```python\n",
    "['a b c d e f g h i j k l m n o p q r s t u v w x y z']\n",
    "```\n",
    "\n",
    "Just **one chunk**, because:\n",
    "\n",
    "* The total string length = **51 characters**\n",
    "* You told it to split at 26 chars with 4 char overlap,\n",
    "* But since **no separator**, it doesn’t know how to **safely split without breaking a word or structure**, so it gives the **whole thing as one chunk**.\n",
    "\n",
    "---\n",
    "\n",
    "### ✅ Why adding `separator=' '` works:\n",
    "\n",
    "When you write:\n",
    "\n",
    "```python\n",
    "separator=' '\n",
    "```\n",
    "\n",
    "You tell it:\n",
    "\n",
    "> \"You're allowed to break at **spaces**, and only at spaces.\"\n",
    "\n",
    "Now it can break the text **safely at each word boundary** (between letters), which leads to proper chunking.\n",
    "\n",
    "---\n",
    "\n",
    "### ✅ Summary:\n",
    "\n",
    "| Case                 | Output Chunks                                 | Reason                                  |\n",
    "| -------------------- | --------------------------------------------- | --------------------------------------- |\n",
    "| Without `separator`  | `['a b c d e f g ... z']` (1 chunk)           | Can't split because it doesn't know how |\n",
    "| With `separator=' '` | Multiple chunks like `['a b c d e ...', ...]` | Splits cleanly at spaces                |\n",
    "\n",
    "---\n",
    "\n",
    "\n"
   ]
  },
  {
   "cell_type": "markdown",
   "id": "f9202008",
   "metadata": {},
   "source": [
    "**`RecursiveCharacterTextSplitter`** behaves **differently** than `CharacterTextSplitter`, and it works **even without a defined `separator`**.\n",
    "\n",
    "Let me explain **why it works that way**, and why your output is different and correct.\n",
    "\n",
    "---\n",
    "\n",
    "### 🔁 What is `RecursiveCharacterTextSplitter`?\n",
    "\n",
    "The `RecursiveCharacterTextSplitter` is **smarter** than `CharacterTextSplitter`. It **tries multiple separators recursively** to break text **gracefully**.\n",
    "\n",
    "---\n",
    "\n",
    "### 🔍 How it works:\n",
    "\n",
    "Internally, `RecursiveCharacterTextSplitter` uses a **list of fallback separators**, like:\n",
    "\n",
    "```python\n",
    "[\"\\n\\n\", \"\\n\", \" \", \"\", None]\n",
    "```\n",
    "\n",
    "It tries to split text at:\n",
    "\n",
    "1. **Paragraphs (`\\n\\n`)**\n",
    "2. **Lines (`\\n`)**\n",
    "3. **Spaces (` `)**\n",
    "4. **Characters (fallback when nothing else works)**\n",
    "\n",
    "---\n",
    "\n",
    "### ✅ That’s why your case works:\n",
    "\n",
    "```python\n",
    "from langchain.text_splitter import RecursiveCharacterTextSplitter\n",
    "\n",
    "text3 = \"a b c d e f g h i j k l m n o p q r s t u v w x y z\"\n",
    "\n",
    "r_splitter = RecursiveCharacterTextSplitter(\n",
    "    chunk_size=26,\n",
    "    chunk_overlap=4\n",
    ")\n",
    "\n",
    "r_splitter.split_text(text3)\n",
    "```\n",
    "\n",
    "### 🔄 Output:\n",
    "\n",
    "```python\n",
    "['a b c d e f g h i j k l m', \n",
    " 'l m n o p q r s t u v w x', \n",
    " 'w x y z']\n",
    "```\n",
    "\n",
    "---\n",
    "\n",
    "### 🧠 What it did:\n",
    "\n",
    "* It first tried to split using `\\n\\n`, but didn’t find any.\n",
    "* Then tried `\\n` – nothing there.\n",
    "* Then tried `' '` (space) – this worked!\n",
    "* So it split the text by **spaces** into tokens.\n",
    "* Then it chunked them using your `chunk_size = 26` and `chunk_overlap = 4`.\n",
    "\n",
    "---\n",
    "\n",
    "### 📌 Summary Table:\n",
    "\n",
    "| Splitter                         | Needs Separator?                    | Auto Tries Fallbacks? | Works Well for Text?                  |\n",
    "| -------------------------------- | ----------------------------------- | --------------------- | ------------------------------------- |\n",
    "| `CharacterTextSplitter`          | ❗Yes (optional, but better with it) | ❌ No                  | Only if you define separator          |\n",
    "| `RecursiveCharacterTextSplitter` | ✅ No                                | ✅ Yes                 | ✅ Works well without manual separator |\n",
    "\n",
    "---\n",
    "\n",
    "### ✅ Final Takeaway:\n",
    "\n",
    "Use **`RecursiveCharacterTextSplitter`** when:\n",
    "\n",
    "* You want intelligent, flexible splitting.\n",
    "* You don’t want to manually define a separator.\n",
    "* Your text varies in format (e.g., spaces, lines, paragraphs).\n",
    "\n",
    "\n"
   ]
  },
  {
   "cell_type": "markdown",
   "id": "22d0c238",
   "metadata": {},
   "source": [
    "\n",
    "\n",
    "### ✅ In `RecursiveCharacterTextSplitter`, you **can** define `separators`, **but you don't have to**.\n",
    "\n",
    "---\n",
    "\n",
    "### 🔍 What I meant before:\n",
    "\n",
    "> \"You **don’t need** to define `separator` for it to work — because it already has a **default list** of smart separators internally.\"\n",
    "\n",
    "So:\n",
    "\n",
    "* If **you don't pass `separators`**, it uses its **default list**:\n",
    "\n",
    "  ```python\n",
    "  [\"\\n\\n\", \"\\n\", \" \", \"\"]\n",
    "  ```\n",
    "* If **you pass your own `separators`**, it uses **your custom list instead** of the default.\n",
    "\n",
    "---\n",
    "\n",
    "### 📌 So both are valid:\n",
    "\n",
    "#### Option 1: No separators (uses default list)\n",
    "\n",
    "```python\n",
    "r_splitter = RecursiveCharacterTextSplitter(\n",
    "    chunk_size=450,\n",
    "    chunk_overlap=0\n",
    ")\n",
    "```\n",
    "\n",
    "It will automatically try:\n",
    "\n",
    "```python\n",
    "[\"\\n\\n\", \"\\n\", \" \", \"\"]\n",
    "```\n",
    "\n",
    "---\n",
    "\n",
    "#### Option 2: Custom separators\n",
    "\n",
    "```python\n",
    "r_splitter = RecursiveCharacterTextSplitter(\n",
    "    chunk_size=450,\n",
    "    chunk_overlap=0,\n",
    "    separators=[\"###\", \"**\", \"|\", \" \"]\n",
    ")\n",
    "```\n",
    "\n",
    "Now it will try:\n",
    "\n",
    "```python\n",
    "[\"###\", \"**\", \"|\", \" \"]  # your custom list\n",
    "```\n",
    "\n",
    "---\n",
    "\n",
    "### 🧠 Why use custom separators?\n",
    "\n",
    "You use `separators=[...]` when your text has **special structures**, such as:\n",
    "\n",
    "* Markdown content (`###`, `**`)\n",
    "* Logs (`|` separator)\n",
    "* Bullet points (`-`, `*`)\n",
    "* Any domain-specific format\n",
    "\n",
    "---\n",
    "\n",
    "### ✅ Conclusion:\n",
    "\n",
    "| Case                        | Result                                            |\n",
    "| --------------------------- | ------------------------------------------------- |\n",
    "| No `separators` passed      | Uses **default** list (`[\"\\n\\n\", \"\\n\", \" \", \"\"]`) |\n",
    "| `separators=[...]` provided | Uses **your** custom list                         |\n",
    "\n",
    "So yes — you **can** pass it, but you **don't have to**.\n",
    "\n",
    "\n"
   ]
  },
  {
   "cell_type": "code",
   "execution_count": 18,
   "id": "238b9044",
   "metadata": {},
   "outputs": [],
   "source": [
    "some_text = \"\"\"When writing documents, writers will use document structure to group content. \\\n",
    "This can convey to the reader, which idea's are related. For example, closely related ideas \\\n",
    "are in sentances. Similar ideas are in paragraphs. Paragraphs form a document. \\n\\n  \\\n",
    "Paragraphs are often delimited with a carriage return or two carriage returns. \\\n",
    "Carriage returns are the \"backslash n\" you see embedded in this string. \\\n",
    "Sentences have a period at the end, but also, have a space.\\\n",
    "and words are separated by space.\"\"\""
   ]
  },
  {
   "cell_type": "code",
   "execution_count": null,
   "id": "657412ec",
   "metadata": {},
   "outputs": [],
   "source": [
    "len(some_text)"
   ]
  },
  {
   "cell_type": "code",
   "execution_count": 26,
   "id": "e1e50dd2",
   "metadata": {},
   "outputs": [],
   "source": [
    "c_splitter = CharacterTextSplitter(\n",
    "    chunk_size=450,\n",
    "    chunk_overlap=0,\n",
    "    separator = ' '\n",
    ")\n",
    "r_splitter = RecursiveCharacterTextSplitter(\n",
    "    chunk_size=450,\n",
    "    chunk_overlap=0, \n",
    "    separators=[\"\\n\\n\", \"\\n\", \" \", \"\"]\n",
    ")"
   ]
  },
  {
   "cell_type": "code",
   "execution_count": 27,
   "id": "e5dd3969",
   "metadata": {},
   "outputs": [
    {
     "data": {
      "text/plain": [
       "['When writing documents, writers will use document structure to group content. This can convey to the reader, which idea\\'s are related. For example, closely related ideas are in sentances. Similar ideas are in paragraphs. Paragraphs form a document. \\n\\n Paragraphs are often delimited with a carriage return or two carriage returns. Carriage returns are the \"backslash n\" you see embedded in this string. Sentences have a period at the end, but also,',\n",
       " 'have a space.and words are separated by space.']"
      ]
     },
     "execution_count": 27,
     "metadata": {},
     "output_type": "execute_result"
    }
   ],
   "source": [
    "c_splitter.split_text(some_text)"
   ]
  },
  {
   "cell_type": "code",
   "execution_count": 28,
   "id": "537fbfd9",
   "metadata": {},
   "outputs": [
    {
     "data": {
      "text/plain": [
       "[\"When writing documents, writers will use document structure to group content. This can convey to the reader, which idea's are related. For example, closely related ideas are in sentances. Similar ideas are in paragraphs. Paragraphs form a document.\",\n",
       " 'Paragraphs are often delimited with a carriage return or two carriage returns. Carriage returns are the \"backslash n\" you see embedded in this string. Sentences have a period at the end, but also, have a space.and words are separated by space.']"
      ]
     },
     "execution_count": 28,
     "metadata": {},
     "output_type": "execute_result"
    }
   ],
   "source": [
    "r_splitter.split_text(some_text)"
   ]
  },
  {
   "cell_type": "code",
   "execution_count": 29,
   "id": "eff64feb",
   "metadata": {},
   "outputs": [],
   "source": [
    "from langchain.document_loaders import PyPDFLoader\n",
    "loader = PyPDFLoader(\"./MachineLearning-Lecture01.pdf\")\n",
    "pages = loader.load()"
   ]
  },
  {
   "cell_type": "code",
   "execution_count": 30,
   "id": "775af8c1",
   "metadata": {},
   "outputs": [],
   "source": [
    "from langchain.text_splitter import CharacterTextSplitter\n",
    "text_splitter = CharacterTextSplitter(\n",
    "    separator=\"\\n\",\n",
    "    chunk_size=1000,\n",
    "    chunk_overlap=150,\n",
    "    length_function=len\n",
    ")"
   ]
  },
  {
   "cell_type": "code",
   "execution_count": 31,
   "id": "4ed8c908",
   "metadata": {},
   "outputs": [],
   "source": [
    "docs = text_splitter.split_documents(pages)"
   ]
  },
  {
   "cell_type": "code",
   "execution_count": 32,
   "id": "f6ac2530",
   "metadata": {},
   "outputs": [
    {
     "data": {
      "text/plain": [
       "78"
      ]
     },
     "execution_count": 32,
     "metadata": {},
     "output_type": "execute_result"
    }
   ],
   "source": [
    "len(docs)"
   ]
  },
  {
   "cell_type": "code",
   "execution_count": 33,
   "id": "22c81afb",
   "metadata": {},
   "outputs": [
    {
     "data": {
      "text/plain": [
       "22"
      ]
     },
     "execution_count": 33,
     "metadata": {},
     "output_type": "execute_result"
    }
   ],
   "source": [
    "len(pages)"
   ]
  },
  {
   "cell_type": "code",
   "execution_count": 34,
   "id": "a91bd451",
   "metadata": {},
   "outputs": [],
   "source": [
    "#Token splitting\n",
    "#We can also split on token count explicity, if we want.\n",
    "#This can be useful because LLMs often have context windows designated in tokens.\n",
    "#Tokens are often ~4 characters"
   ]
  },
  {
   "cell_type": "code",
   "execution_count": 40,
   "id": "f143b9dc",
   "metadata": {},
   "outputs": [
    {
     "data": {
      "text/plain": [
       "['foo', ' bar', ' b', 'az', 'zy', 'foo']"
      ]
     },
     "execution_count": 40,
     "metadata": {},
     "output_type": "execute_result"
    }
   ],
   "source": [
    "from langchain.text_splitter import TokenTextSplitter\n",
    "text_splitter = TokenTextSplitter(chunk_size=1, chunk_overlap=0)\n",
    "text1 = \"foo bar bazzyfoo\"\n",
    "text_splitter.split_text(text1)"
   ]
  },
  {
   "cell_type": "code",
   "execution_count": 41,
   "id": "50f2917a",
   "metadata": {},
   "outputs": [
    {
     "name": "stdout",
     "output_type": "stream",
     "text": [
      "[8134, 3703, 51347, 4341, 8134]\n",
      "['foo', ' bar', ' baz', 'zy', 'foo']\n"
     ]
    }
   ],
   "source": [
    "import tiktoken\n",
    "\n",
    "enc = tiktoken.get_encoding(\"cl100k_base\")  # Same tokenizer used by OpenAI's GPT-4-turbo\n",
    "tokens = enc.encode(\"foo bar bazzyfoo\")\n",
    "print(tokens)\n",
    "print([enc.decode([t]) for t in tokens])\n"
   ]
  },
  {
   "cell_type": "code",
   "execution_count": 42,
   "id": "f61f5a8d",
   "metadata": {},
   "outputs": [],
   "source": [
    "text_splitter = TokenTextSplitter(chunk_size=10, chunk_overlap=0)"
   ]
  },
  {
   "cell_type": "code",
   "execution_count": 43,
   "id": "274f93a2",
   "metadata": {},
   "outputs": [],
   "source": [
    "docs = text_splitter.split_documents(pages)"
   ]
  },
  {
   "cell_type": "code",
   "execution_count": 44,
   "id": "9fa89a63",
   "metadata": {},
   "outputs": [
    {
     "data": {
      "text/plain": [
       "Document(metadata={'producer': 'Acrobat Distiller 8.1.0 (Windows)', 'creator': 'PScript5.dll Version 5.2.2', 'creationdate': '2008-07-11T11:25:23-07:00', 'author': '', 'moddate': '2008-07-11T11:25:23-07:00', 'title': '', 'source': './MachineLearning-Lecture01.pdf', 'total_pages': 22, 'page': 0, 'page_label': '1'}, page_content='MachineLearning-Lecture01  \\n')"
      ]
     },
     "execution_count": 44,
     "metadata": {},
     "output_type": "execute_result"
    }
   ],
   "source": [
    "docs[0]"
   ]
  },
  {
   "cell_type": "code",
   "execution_count": 45,
   "id": "ceb02080",
   "metadata": {},
   "outputs": [
    {
     "data": {
      "text/plain": [
       "{'producer': 'Acrobat Distiller 8.1.0 (Windows)',\n",
       " 'creator': 'PScript5.dll Version 5.2.2',\n",
       " 'creationdate': '2008-07-11T11:25:23-07:00',\n",
       " 'author': '',\n",
       " 'moddate': '2008-07-11T11:25:23-07:00',\n",
       " 'title': '',\n",
       " 'source': './MachineLearning-Lecture01.pdf',\n",
       " 'total_pages': 22,\n",
       " 'page': 0,\n",
       " 'page_label': '1'}"
      ]
     },
     "execution_count": 45,
     "metadata": {},
     "output_type": "execute_result"
    }
   ],
   "source": [
    "pages[0].metadata"
   ]
  },
  {
   "cell_type": "code",
   "execution_count": 46,
   "id": "c27532e8",
   "metadata": {},
   "outputs": [
    {
     "data": {
      "text/plain": [
       "{'producer': 'Acrobat Distiller 8.1.0 (Windows)',\n",
       " 'creator': 'PScript5.dll Version 5.2.2',\n",
       " 'creationdate': '2008-07-11T11:25:23-07:00',\n",
       " 'author': '',\n",
       " 'moddate': '2008-07-11T11:25:23-07:00',\n",
       " 'title': '',\n",
       " 'source': './MachineLearning-Lecture01.pdf',\n",
       " 'total_pages': 22,\n",
       " 'page': 0,\n",
       " 'page_label': '1'}"
      ]
     },
     "execution_count": 46,
     "metadata": {},
     "output_type": "execute_result"
    }
   ],
   "source": [
    "docs[0].metadata"
   ]
  },
  {
   "cell_type": "markdown",
   "id": "90e63bab",
   "metadata": {},
   "source": [
    "## Context aware splitting\n",
    "\n",
    "Chunking aims to keep text with common context together.\n",
    "\n",
    "A text splitting often uses sentences or other delimiters to keep related text together but many documents (such as Markdown) have structure (headers) that can be explicitly used in splitting.\n",
    "\n",
    "We can use `MarkdownHeaderTextSplitter` to preserve header metadata in our chunks, as show below."
   ]
  }
 ],
 "metadata": {
  "kernelspec": {
   "display_name": "Python 3",
   "language": "python",
   "name": "python3"
  },
  "language_info": {
   "codemirror_mode": {
    "name": "ipython",
    "version": 3
   },
   "file_extension": ".py",
   "mimetype": "text/x-python",
   "name": "python",
   "nbconvert_exporter": "python",
   "pygments_lexer": "ipython3",
   "version": "3.13.5"
  }
 },
 "nbformat": 4,
 "nbformat_minor": 5
}
