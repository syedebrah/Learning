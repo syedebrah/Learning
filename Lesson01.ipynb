{
 "cells": [
  {
   "cell_type": "code",
   "execution_count": null,
   "id": "b31b7c14",
   "metadata": {},
   "outputs": [
    {
     "name": "stdout",
     "output_type": "stream",
     "text": [
      "Note: you may need to restart the kernel to use updated packages.\n"
     ]
    }
   ],
   "source": [
    "! pip install -q -U google-generativeai"
   ]
  },
  {
   "cell_type": "code",
   "execution_count": 1,
   "id": "5c575939",
   "metadata": {},
   "outputs": [
    {
     "name": "stderr",
     "output_type": "stream",
     "text": [
      "d:\\python\\install\\Lib\\site-packages\\tqdm\\auto.py:21: TqdmWarning: IProgress not found. Please update jupyter and ipywidgets. See https://ipywidgets.readthedocs.io/en/stable/user_install.html\n",
      "  from .autonotebook import tqdm as notebook_tqdm\n"
     ]
    }
   ],
   "source": [
    "import google.generativeai as genai\n",
    "import pathlib\n",
    "import textwrap\n",
    "\n",
    "from IPython.display import display\n",
    "from IPython.display import Markdown\n",
    "\n",
    "\n",
    "def to_markdown(text):\n",
    "  text = text.replace('•', '  *')\n",
    "  return Markdown(textwrap.indent(text, '> ', predicate=lambda _: True))\n"
   ]
  },
  {
   "cell_type": "code",
   "execution_count": null,
   "id": "64f94bfb",
   "metadata": {},
   "outputs": [],
   "source": [
    "GOOGLE_API_KEY = 'AI1zaSyC3qifQ3POSG_F5Mg43f-iqNdEHFPvwesQ1'\n",
    "genai.configure(api_key=GOOGLE_API_KEY)\n",
    "model = genai.GenerativeModel('gemini-2.0-flash-exp')"
   ]
  },
  {
   "cell_type": "code",
   "execution_count": 5,
   "id": "76ae5fa2",
   "metadata": {},
   "outputs": [
    {
     "name": "stdout",
     "output_type": "stream",
     "text": [
      "models/gemini-1.0-pro-vision-latest\n",
      "models/gemini-pro-vision\n",
      "models/gemini-1.5-pro-latest\n",
      "models/gemini-1.5-pro-002\n",
      "models/gemini-1.5-pro\n",
      "models/gemini-1.5-flash-latest\n",
      "models/gemini-1.5-flash\n",
      "models/gemini-1.5-flash-002\n",
      "models/gemini-1.5-flash-8b\n",
      "models/gemini-1.5-flash-8b-001\n",
      "models/gemini-1.5-flash-8b-latest\n",
      "models/gemini-2.5-pro-preview-03-25\n",
      "models/gemini-2.5-flash-preview-04-17\n",
      "models/gemini-2.5-flash-preview-05-20\n",
      "models/gemini-2.5-flash\n",
      "models/gemini-2.5-flash-preview-04-17-thinking\n",
      "models/gemini-2.5-flash-lite-preview-06-17\n",
      "models/gemini-2.5-pro-preview-05-06\n",
      "models/gemini-2.5-pro-preview-06-05\n",
      "models/gemini-2.5-pro\n",
      "models/gemini-2.0-flash-exp\n",
      "models/gemini-2.0-flash\n",
      "models/gemini-2.0-flash-001\n",
      "models/gemini-2.0-flash-exp-image-generation\n",
      "models/gemini-2.0-flash-lite-001\n",
      "models/gemini-2.0-flash-lite\n",
      "models/gemini-2.0-flash-preview-image-generation\n",
      "models/gemini-2.0-flash-lite-preview-02-05\n",
      "models/gemini-2.0-flash-lite-preview\n",
      "models/gemini-2.0-pro-exp\n",
      "models/gemini-2.0-pro-exp-02-05\n",
      "models/gemini-exp-1206\n",
      "models/gemini-2.0-flash-thinking-exp-01-21\n",
      "models/gemini-2.0-flash-thinking-exp\n",
      "models/gemini-2.0-flash-thinking-exp-1219\n",
      "models/gemini-2.5-flash-preview-tts\n",
      "models/gemini-2.5-pro-preview-tts\n",
      "models/learnlm-2.0-flash-experimental\n",
      "models/gemma-3-1b-it\n",
      "models/gemma-3-4b-it\n",
      "models/gemma-3-12b-it\n",
      "models/gemma-3-27b-it\n",
      "models/gemma-3n-e4b-it\n",
      "models/gemma-3n-e2b-it\n"
     ]
    }
   ],
   "source": [
    "for m in genai.list_models():\n",
    "  if 'generateContent' in m.supported_generation_methods:\n",
    "    print(m.name)"
   ]
  },
  {
   "cell_type": "code",
   "execution_count": 11,
   "id": "e690f04f",
   "metadata": {},
   "outputs": [],
   "source": [
    "response = model.generate_content(\"Does data Science has future in 2030?\")"
   ]
  },
  {
   "cell_type": "code",
   "execution_count": 12,
   "id": "1b1d6751",
   "metadata": {},
   "outputs": [
    {
     "data": {
      "text/markdown": [
       "> Yes, data science absolutely has a future in 2030 and beyond. In fact, its importance and prevalence are likely to **increase significantly**. Here's why:\n",
       "> \n",
       "> **1. Exponential Data Growth:**\n",
       "> \n",
       "> *   The amount of data generated globally continues to grow at an exponential rate. This data comes from various sources like IoT devices, social media, sensors, business transactions, and scientific research.\n",
       "> *   This vast amount of data needs to be processed, analyzed, and interpreted to extract valuable insights. Data science is the key to unlocking this value.\n",
       "> \n",
       "> **2. Increased Demand Across Industries:**\n",
       "> \n",
       "> *   Virtually every industry is realizing the potential of data-driven decision-making.  Expect to see data science integrated even more deeply into:\n",
       ">     *   **Healthcare:** Personalized medicine, drug discovery, predictive diagnostics, hospital management.\n",
       ">     *   **Finance:** Fraud detection, risk management, algorithmic trading, customer analytics.\n",
       ">     *   **Retail:** Supply chain optimization, personalized recommendations, customer segmentation.\n",
       ">     *   **Manufacturing:** Predictive maintenance, process optimization, quality control.\n",
       ">     *   **Transportation:** Autonomous vehicles, traffic management, logistics optimization.\n",
       ">     *   **Energy:** Smart grids, resource management, predictive maintenance.\n",
       ">     *   **Agriculture:** Precision farming, crop yield prediction, resource optimization.\n",
       ">     *   **Government:** Policy making, public safety, resource allocation.\n",
       ">     *   **Entertainment:** Content personalization, recommendation systems, audience analytics.\n",
       ">     *   **Education:** Personalized learning, student performance prediction, resource allocation.\n",
       "> \n",
       "> **3. Advancements in AI and Machine Learning:**\n",
       "> \n",
       "> *   Data science is closely intertwined with Artificial Intelligence (AI) and Machine Learning (ML). As AI and ML technologies continue to advance, the demand for data scientists who can build, deploy, and interpret these models will only grow.\n",
       "> *   We can anticipate more sophisticated AI models that require larger and more complex datasets, necessitating the skills of data scientists.\n",
       "> \n",
       "> **4.  Emerging Technologies:**\n",
       "> \n",
       "> *   **Quantum Computing:** As quantum computing becomes more accessible, it will revolutionize data analysis by enabling solutions to previously intractable problems.  Data scientists will need to adapt to and leverage these new computational capabilities.\n",
       "> *   **Edge Computing:** Processing data closer to the source (e.g., on IoT devices) will become more prevalent.  This requires data scientists to develop algorithms and models that can run efficiently on resource-constrained devices.\n",
       "> *   **Decentralized Data & Blockchain:**  The rise of decentralized data and blockchain technologies will create new opportunities for data analysis, particularly in areas like supply chain management and finance.\n",
       "> \n",
       "> **5.  Evolving Skillsets:**\n",
       "> \n",
       "> *   The skillset required of data scientists will continue to evolve.  Beyond core skills like statistical analysis, machine learning, and programming, expect to see increased demand for:\n",
       ">     *   **Explainable AI (XAI):**  Understanding and interpreting how AI models arrive at their decisions.\n",
       ">     *   **Ethical AI:** Ensuring that AI systems are fair, unbiased, and responsible.\n",
       ">     *   **Data Governance and Privacy:**  Managing and protecting sensitive data in compliance with regulations like GDPR.\n",
       ">     *   **Domain Expertise:**  A deep understanding of the specific industry or application domain.\n",
       ">     *   **Communication and Storytelling:**  Effectively communicating complex insights to non-technical audiences.\n",
       "> \n",
       "> **6. Automation and Democratization:**\n",
       "> \n",
       "> *   While some tasks within data science may become more automated (e.g., through AutoML), this will likely free up data scientists to focus on higher-level tasks like problem definition, model interpretation, and strategic decision-making.\n",
       "> *   The \"democratization\" of data science, through user-friendly tools and platforms, will empower more people to analyze data. However, this will also increase the demand for skilled data scientists who can manage complex projects, build sophisticated models, and ensure the quality and reliability of data analysis.\n",
       "> \n",
       "> **Challenges and Considerations:**\n",
       "> \n",
       "> *   **Data Privacy and Security:**  As data becomes more valuable, concerns about privacy and security will continue to grow. Data scientists will need to be mindful of these concerns and develop solutions that protect sensitive information.\n",
       "> *   **Ethical Considerations:**  AI and data science can be used for both good and bad. Data scientists have a responsibility to ensure that their work is ethical and does not perpetuate bias or discrimination.\n",
       "> *   **Skills Gap:**  There is currently a shortage of qualified data scientists. Addressing this skills gap will be crucial to realizing the full potential of data science.\n",
       "> \n",
       "> **In conclusion:**  Data science is not a passing fad.  It's a fundamental discipline that is becoming increasingly essential for organizations across all industries. The future of data science in 2030 and beyond is very bright, with ample opportunities for skilled professionals who can adapt to the evolving landscape and embrace new technologies. You can confidently invest time and resources into developing data science skills as they will be highly valuable in the years to come.\n"
      ],
      "text/plain": [
       "<IPython.core.display.Markdown object>"
      ]
     },
     "execution_count": 12,
     "metadata": {},
     "output_type": "execute_result"
    }
   ],
   "source": [
    "to_markdown(response.text)"
   ]
  },
  {
   "cell_type": "code",
   "execution_count": null,
   "id": "3888de0c",
   "metadata": {},
   "outputs": [],
   "source": []
  }
 ],
 "metadata": {
  "kernelspec": {
   "display_name": "Python 3",
   "language": "python",
   "name": "python3"
  },
  "language_info": {
   "codemirror_mode": {
    "name": "ipython",
    "version": 3
   },
   "file_extension": ".py",
   "mimetype": "text/x-python",
   "name": "python",
   "nbconvert_exporter": "python",
   "pygments_lexer": "ipython3",
   "version": "3.13.5"
  }
 },
 "nbformat": 4,
 "nbformat_minor": 5
}
