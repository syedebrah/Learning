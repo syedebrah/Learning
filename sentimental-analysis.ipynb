{
 "cells": [
  {
   "cell_type": "code",
   "execution_count": 1,
   "id": "12408d72",
   "metadata": {
    "_cell_guid": "b1076dfc-b9ad-4769-8c92-a6c4dae69d19",
    "_uuid": "8f2839f25d086af736a60e9eeb907d3b93b6e0e5",
    "execution": {
     "iopub.execute_input": "2025-07-11T07:46:23.183703Z",
     "iopub.status.busy": "2025-07-11T07:46:23.183492Z",
     "iopub.status.idle": "2025-07-11T07:46:38.511677Z",
     "shell.execute_reply": "2025-07-11T07:46:38.511092Z"
    },
    "papermill": {
     "duration": 15.332737,
     "end_time": "2025-07-11T07:46:38.513064",
     "exception": false,
     "start_time": "2025-07-11T07:46:23.180327",
     "status": "completed"
    },
    "tags": []
   },
   "outputs": [
    {
     "name": "stderr",
     "output_type": "stream",
     "text": [
      "2025-07-11 07:46:25.013233: E external/local_xla/xla/stream_executor/cuda/cuda_fft.cc:477] Unable to register cuFFT factory: Attempting to register factory for plugin cuFFT when one has already been registered\n",
      "WARNING: All log messages before absl::InitializeLog() is called are written to STDERR\n",
      "E0000 00:00:1752219985.225224      19 cuda_dnn.cc:8310] Unable to register cuDNN factory: Attempting to register factory for plugin cuDNN when one has already been registered\n",
      "E0000 00:00:1752219985.294375      19 cuda_blas.cc:1418] Unable to register cuBLAS factory: Attempting to register factory for plugin cuBLAS when one has already been registered\n"
     ]
    }
   ],
   "source": [
    "import tensorflow as tf\n",
    "from tensorflow.keras.models import Sequential\n",
    "from tensorflow.keras.layers import Dense, Embedding, GlobalAveragePooling1D\n",
    "from tensorflow.keras.layers import TextVectorization\n",
    "import numpy as np\n"
   ]
  },
  {
   "cell_type": "code",
   "execution_count": 2,
   "id": "b57eb7c9",
   "metadata": {
    "execution": {
     "iopub.execute_input": "2025-07-11T07:46:38.519033Z",
     "iopub.status.busy": "2025-07-11T07:46:38.518200Z",
     "iopub.status.idle": "2025-07-11T07:46:38.522202Z",
     "shell.execute_reply": "2025-07-11T07:46:38.521529Z"
    },
    "papermill": {
     "duration": 0.007627,
     "end_time": "2025-07-11T07:46:38.523232",
     "exception": false,
     "start_time": "2025-07-11T07:46:38.515605",
     "status": "completed"
    },
    "tags": []
   },
   "outputs": [],
   "source": [
    "sentences = [\n",
    "    \"I love this movie\",\n",
    "    \"This is a great product\",\n",
    "    \"I feel awesome\",\n",
    "    \"It’s a fantastic day\",\n",
    "    \"I hate this\",\n",
    "    \"This is terrible\",\n",
    "    \"I feel bad\",\n",
    "    \"It’s a horrible experience\"\n",
    "]\n",
    "\n",
    "labels = [1, 1, 1, 1, 0, 0, 0, 0]  # 1 = Positive, 0 = Negative\n"
   ]
  },
  {
   "cell_type": "code",
   "execution_count": 3,
   "id": "1b87d101",
   "metadata": {
    "execution": {
     "iopub.execute_input": "2025-07-11T07:46:38.528106Z",
     "iopub.status.busy": "2025-07-11T07:46:38.527541Z",
     "iopub.status.idle": "2025-07-11T07:46:39.449049Z",
     "shell.execute_reply": "2025-07-11T07:46:39.448336Z"
    },
    "papermill": {
     "duration": 0.925182,
     "end_time": "2025-07-11T07:46:39.450352",
     "exception": false,
     "start_time": "2025-07-11T07:46:38.525170",
     "status": "completed"
    },
    "tags": []
   },
   "outputs": [
    {
     "name": "stderr",
     "output_type": "stream",
     "text": [
      "I0000 00:00:1752219999.318518      19 gpu_device.cc:2022] Created device /job:localhost/replica:0/task:0/device:GPU:0 with 15513 MB memory:  -> device: 0, name: Tesla P100-PCIE-16GB, pci bus id: 0000:00:04.0, compute capability: 6.0\n"
     ]
    }
   ],
   "source": [
    "vectorizer = TextVectorization(max_tokens=1000, output_sequence_length=5)\n",
    "vectorizer.adapt(sentences)\n"
   ]
  },
  {
   "cell_type": "code",
   "execution_count": 4,
   "id": "7d19f513",
   "metadata": {
    "execution": {
     "iopub.execute_input": "2025-07-11T07:46:39.455893Z",
     "iopub.status.busy": "2025-07-11T07:46:39.455247Z",
     "iopub.status.idle": "2025-07-11T07:46:40.591709Z",
     "shell.execute_reply": "2025-07-11T07:46:40.591115Z"
    },
    "papermill": {
     "duration": 1.140451,
     "end_time": "2025-07-11T07:46:40.593063",
     "exception": false,
     "start_time": "2025-07-11T07:46:39.452612",
     "status": "completed"
    },
    "tags": []
   },
   "outputs": [],
   "source": [
    "X = vectorizer(sentences)\n",
    "y = np.array(labels)\n"
   ]
  },
  {
   "cell_type": "code",
   "execution_count": 5,
   "id": "d9f02e54",
   "metadata": {
    "execution": {
     "iopub.execute_input": "2025-07-11T07:46:40.598526Z",
     "iopub.status.busy": "2025-07-11T07:46:40.598297Z",
     "iopub.status.idle": "2025-07-11T07:46:40.605695Z",
     "shell.execute_reply": "2025-07-11T07:46:40.605173Z"
    },
    "papermill": {
     "duration": 0.011238,
     "end_time": "2025-07-11T07:46:40.606732",
     "exception": false,
     "start_time": "2025-07-11T07:46:40.595494",
     "status": "completed"
    },
    "tags": []
   },
   "outputs": [],
   "source": [
    "model = Sequential([\n",
    "    Embedding(input_dim=1000, output_dim=10),\n",
    "    GlobalAveragePooling1D(),\n",
    "    Dense(16, activation='relu'),\n",
    "    Dense(1, activation='sigmoid')\n",
    "])\n"
   ]
  },
  {
   "cell_type": "code",
   "execution_count": 6,
   "id": "632817f0",
   "metadata": {
    "execution": {
     "iopub.execute_input": "2025-07-11T07:46:40.611756Z",
     "iopub.status.busy": "2025-07-11T07:46:40.611145Z",
     "iopub.status.idle": "2025-07-11T07:46:40.628515Z",
     "shell.execute_reply": "2025-07-11T07:46:40.627831Z"
    },
    "papermill": {
     "duration": 0.020864,
     "end_time": "2025-07-11T07:46:40.629596",
     "exception": false,
     "start_time": "2025-07-11T07:46:40.608732",
     "status": "completed"
    },
    "tags": []
   },
   "outputs": [],
   "source": [
    "model.compile(optimizer='adam',\n",
    "              loss='binary_crossentropy',\n",
    "              metrics=['accuracy'])\n"
   ]
  },
  {
   "cell_type": "code",
   "execution_count": 7,
   "id": "17278e8b",
   "metadata": {
    "execution": {
     "iopub.execute_input": "2025-07-11T07:46:40.634439Z",
     "iopub.status.busy": "2025-07-11T07:46:40.634041Z",
     "iopub.status.idle": "2025-07-11T07:46:44.025378Z",
     "shell.execute_reply": "2025-07-11T07:46:44.024646Z"
    },
    "papermill": {
     "duration": 3.395054,
     "end_time": "2025-07-11T07:46:44.026671",
     "exception": false,
     "start_time": "2025-07-11T07:46:40.631617",
     "status": "completed"
    },
    "tags": []
   },
   "outputs": [
    {
     "name": "stderr",
     "output_type": "stream",
     "text": [
      "WARNING: All log messages before absl::InitializeLog() is called are written to STDERR\n",
      "I0000 00:00:1752220002.271764      57 service.cc:148] XLA service 0x7dd738022af0 initialized for platform CUDA (this does not guarantee that XLA will be used). Devices:\n",
      "I0000 00:00:1752220002.272533      57 service.cc:156]   StreamExecutor device (0): Tesla P100-PCIE-16GB, Compute Capability 6.0\n",
      "I0000 00:00:1752220002.496865      57 cuda_dnn.cc:529] Loaded cuDNN version 90300\n",
      "I0000 00:00:1752220003.030885      57 device_compiler.h:188] Compiled cluster using XLA!  This line is logged at most once for the lifetime of the process.\n"
     ]
    },
    {
     "data": {
      "text/plain": [
       "<keras.src.callbacks.history.History at 0x7dd7dd4b11d0>"
      ]
     },
     "execution_count": 7,
     "metadata": {},
     "output_type": "execute_result"
    }
   ],
   "source": [
    "model.fit(X, y, epochs=30, verbose=0)\n"
   ]
  },
  {
   "cell_type": "code",
   "execution_count": 8,
   "id": "47150d98",
   "metadata": {
    "execution": {
     "iopub.execute_input": "2025-07-11T07:46:44.032510Z",
     "iopub.status.busy": "2025-07-11T07:46:44.032286Z",
     "iopub.status.idle": "2025-07-11T07:46:44.045249Z",
     "shell.execute_reply": "2025-07-11T07:46:44.044748Z"
    },
    "papermill": {
     "duration": 0.016973,
     "end_time": "2025-07-11T07:46:44.046344",
     "exception": false,
     "start_time": "2025-07-11T07:46:44.029371",
     "status": "completed"
    },
    "tags": []
   },
   "outputs": [],
   "source": [
    "test_sentences = [\"I am so happy\", \"This is the worst\", \"I love this weather\"]\n",
    "test_vectorized = vectorizer(test_sentences)\n"
   ]
  },
  {
   "cell_type": "code",
   "execution_count": 9,
   "id": "f9920909",
   "metadata": {
    "execution": {
     "iopub.execute_input": "2025-07-11T07:46:44.052170Z",
     "iopub.status.busy": "2025-07-11T07:46:44.051587Z",
     "iopub.status.idle": "2025-07-11T07:46:44.298050Z",
     "shell.execute_reply": "2025-07-11T07:46:44.297506Z"
    },
    "papermill": {
     "duration": 0.25048,
     "end_time": "2025-07-11T07:46:44.299093",
     "exception": false,
     "start_time": "2025-07-11T07:46:44.048613",
     "status": "completed"
    },
    "tags": []
   },
   "outputs": [
    {
     "name": "stdout",
     "output_type": "stream",
     "text": [
      "\u001b[1m1/1\u001b[0m \u001b[32m━━━━━━━━━━━━━━━━━━━━\u001b[0m\u001b[37m\u001b[0m \u001b[1m0s\u001b[0m 201ms/step\n"
     ]
    }
   ],
   "source": [
    "predictions = model.predict(test_vectorized)\n"
   ]
  },
  {
   "cell_type": "code",
   "execution_count": 10,
   "id": "95137994",
   "metadata": {
    "execution": {
     "iopub.execute_input": "2025-07-11T07:46:44.305181Z",
     "iopub.status.busy": "2025-07-11T07:46:44.304956Z",
     "iopub.status.idle": "2025-07-11T07:46:44.309556Z",
     "shell.execute_reply": "2025-07-11T07:46:44.308969Z"
    },
    "papermill": {
     "duration": 0.00879,
     "end_time": "2025-07-11T07:46:44.310538",
     "exception": false,
     "start_time": "2025-07-11T07:46:44.301748",
     "status": "completed"
    },
    "tags": []
   },
   "outputs": [
    {
     "name": "stdout",
     "output_type": "stream",
     "text": [
      "'I am so happy' → Negative (Confidence: 0.50)\n",
      "'This is the worst' → Negative (Confidence: 0.50)\n",
      "'I love this weather' → Positive (Confidence: 0.51)\n"
     ]
    }
   ],
   "source": [
    "for sentence, pred in zip(test_sentences, predictions):\n",
    "    label = \"Positive\" if pred > 0.5 else \"Negative\"\n",
    "    print(f\"'{sentence}' → {label} (Confidence: {pred[0]:.2f})\")\n"
   ]
  },
  {
   "cell_type": "code",
   "execution_count": null,
   "id": "312b6700",
   "metadata": {
    "papermill": {
     "duration": 0.002096,
     "end_time": "2025-07-11T07:46:44.315144",
     "exception": false,
     "start_time": "2025-07-11T07:46:44.313048",
     "status": "completed"
    },
    "tags": []
   },
   "outputs": [],
   "source": []
  }
 ],
 "metadata": {
  "kaggle": {
   "accelerator": "gpu",
   "dataSources": [],
   "dockerImageVersionId": 31090,
   "isGpuEnabled": true,
   "isInternetEnabled": true,
   "language": "python",
   "sourceType": "notebook"
  },
  "kernelspec": {
   "display_name": "Python 3",
   "language": "python",
   "name": "python3"
  },
  "language_info": {
   "codemirror_mode": {
    "name": "ipython",
    "version": 3
   },
   "file_extension": ".py",
   "mimetype": "text/x-python",
   "name": "python",
   "nbconvert_exporter": "python",
   "pygments_lexer": "ipython3",
   "version": "3.11.13"
  },
  "papermill": {
   "default_parameters": {},
   "duration": 28.224128,
   "end_time": "2025-07-11T07:46:47.314143",
   "environment_variables": {},
   "exception": null,
   "input_path": "__notebook__.ipynb",
   "output_path": "__notebook__.ipynb",
   "parameters": {},
   "start_time": "2025-07-11T07:46:19.090015",
   "version": "2.6.0"
  }
 },
 "nbformat": 4,
 "nbformat_minor": 5
}
