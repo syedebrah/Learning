{
 "cells": [
  {
   "cell_type": "markdown",
   "id": "b73d17c2",
   "metadata": {},
   "source": [
    "\n",
    "```python\n",
    "word1 = \"repeat\"\n",
    "```\n",
    "- Assigns the string `\"repeat\"` to the variable `word1`. This is the main string that will be analyzed.\n",
    "\n",
    "```python\n",
    "word2 = \"pea\"\n",
    "```\n",
    "- Assigns the string `\"pea\"` to the variable `word2`. This is the substring that will be compared against a portion of `word1`.\n",
    "\n",
    "```python\n",
    "index = 2\n",
    "```\n",
    "- Assigns the integer `2` to the variable `index`. This value represents the starting position in `word1` where the substring comparison will begin (0-based indexing).\n",
    "\n",
    "```python\n",
    "word2_length = len(word2)\n",
    "```\n",
    "- Calculates the length of `word2` using the `len()` function and assigns it to `word2_length`. Since `word2` is `\"pea\"`, `word2_length` will be `3` (the number of characters in \"pea\").\n",
    "\n",
    "```python\n",
    "indexing = word1[index: index + word2_length]\n",
    "```\n",
    "- Uses string slicing to extract a substring from `word1` starting at the `index` (2) and ending at `index + word2_length` (2 + 3 = 5).\n",
    "- For `word1 = \"repeat\"`, the slice `word1[2:5]` includes characters at positions 2, 3, and 4, which are `\"pea\"`.\n",
    "- So, `indexing` is assigned the value `\"pea\"`.\n",
    "\n",
    "```python\n",
    "result = indexing == word2\n",
    "```\n",
    "- Compares the sliced substring (`indexing`, which is `\"pea\"`) with `word2` (also `\"pea\"`) using the `==` operator.\n",
    "- Since both strings are identical, `result` is assigned the boolean value `True`.\n",
    "\n",
    "```python\n",
    "print(result)\n",
    "```\n",
    "- Outputs the value of `result` to the console. In this case, it will print `True`, indicating that the substring of `word1` starting at `index` with the length of `word2` matches `word2`.\n",
    "\n",
    "**Overall Logic**:\n",
    "- The code checks if a portion of `word1` (starting at `index` and extending for the length of `word2`) matches `word2`.\n",
    "- Here, it extracts `\"pea\"` from `\"repeat\"` (starting at index 2) and confirms it equals `\"pea\"`, resulting in `True`.\n",
    "- This could be part of a larger program to search for substrings within a string."
   ]
  },
  {
   "cell_type": "code",
   "execution_count": null,
   "id": "1fb74283",
   "metadata": {},
   "outputs": [],
   "source": [
    "word1 = \"repeat\"\n",
    "word2 = \"pea\"\n",
    "index = 2\n",
    "word2_length = len(word2)\n",
    "indexing = word1[index: index + word2_length]\n",
    "result = indexing == word2\n",
    "print(result)"
   ]
  }
 ],
 "metadata": {
  "language_info": {
   "name": "python"
  }
 },
 "nbformat": 4,
 "nbformat_minor": 5
}
