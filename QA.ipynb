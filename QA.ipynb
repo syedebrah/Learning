{
 "cells": [
  {
   "cell_type": "code",
   "execution_count": 1,
   "id": "4ecd4ba1",
   "metadata": {},
   "outputs": [
    {
     "name": "stdout",
     "output_type": "stream",
     "text": [
      "Gemini API key loaded successfully!\n"
     ]
    }
   ],
   "source": [
    "import os\n",
    "import sys\n",
    "sys.path.append('../..')\n",
    "\n",
    "from dotenv import load_dotenv, find_dotenv\n",
    "_ = load_dotenv(find_dotenv()) # read local .env file\n",
    "\n",
    "# Verify the Gemini API key is loaded\n",
    "if os.environ.get('GOOGLE_API_KEY'):\n",
    "    print(\"Gemini API key loaded successfully!\")\n",
    "else:\n",
    "    raise ValueError(\"GOOGLE_API_KEY not found in environment variables. Please check your .env file.\")"
   ]
  },
  {
   "cell_type": "code",
   "execution_count": 11,
   "id": "cbf1fcb8",
   "metadata": {},
   "outputs": [],
   "source": [
    "from langchain.document_loaders import PyPDFLoader\n",
    "from langchain.text_splitter import RecursiveCharacterTextSplitter\n",
    "from langchain.vectorstores import Chroma\n",
    "from langchain_google_genai import GoogleGenerativeAIEmbeddings"
   ]
  },
  {
   "cell_type": "code",
   "execution_count": 12,
   "id": "f37a523c",
   "metadata": {},
   "outputs": [],
   "source": [
    "# Load documents (replace with your document paths)\n",
    "# Example: Replace with the path to your text file(s)\n",
    "loader = PyPDFLoader(\"./nparray.pdf\")\n",
    "documents = loader.load()\n"
   ]
  },
  {
   "cell_type": "code",
   "execution_count": 13,
   "id": "1d326dae",
   "metadata": {},
   "outputs": [],
   "source": [
    "\n",
    "embedding = GoogleGenerativeAIEmbeddings(model=\"models/embedding-001\")\n"
   ]
  },
  {
   "cell_type": "code",
   "execution_count": 14,
   "id": "68171323",
   "metadata": {},
   "outputs": [
    {
     "name": "stdout",
     "output_type": "stream",
     "text": [
      "Stored 2 documents in the Chroma database.\n"
     ]
    },
    {
     "name": "stderr",
     "output_type": "stream",
     "text": [
      "C:\\Users\\syede\\AppData\\Local\\Temp\\ipykernel_13064\\770083902.py:12: LangChainDeprecationWarning: Since Chroma 0.4.x the manual persistence method is no longer supported as docs are automatically persisted.\n",
      "  vectordb.persist()\n"
     ]
    }
   ],
   "source": [
    "\n",
    "# Split documents into chunks\n",
    "text_splitter = RecursiveCharacterTextSplitter(chunk_size=1000, chunk_overlap=200)\n",
    "splits = text_splitter.split_documents(documents)\n",
    "\n",
    "# Create embeddings and store in Chroma\n",
    "embedding = GoogleGenerativeAIEmbeddings(model=\"models/embedding-001\")\n",
    "vectordb = Chroma.from_documents(\n",
    "    documents=splits,\n",
    "    embedding=embedding,\n",
    "    persist_directory=\"docs/chroma\"\n",
    ")\n",
    "vectordb.persist()\n",
    "print(f\"Stored {vectordb._collection.count()} documents in the Chroma database.\")"
   ]
  },
  {
   "cell_type": "code",
   "execution_count": 15,
   "id": "26e11771",
   "metadata": {},
   "outputs": [
    {
     "name": "stdout",
     "output_type": "stream",
     "text": [
      "2\n"
     ]
    }
   ],
   "source": [
    "print(vectordb._collection.count())"
   ]
  },
  {
   "cell_type": "code",
   "execution_count": 30,
   "id": "b3c3afef",
   "metadata": {},
   "outputs": [
    {
     "data": {
      "text/markdown": [
       "> Based on the context provided, an `np array` refers to an array created using the **NumPy** library in Python, where `np` is the conventional alias for NumPy (as seen in `import numpy as np`).\n",
       "> \n",
       "> From the examples, we can see that an `np array` is a data structure that can be:\n",
       "> \n",
       "> *   **1-Dimensional (1-D):** Like a list of numbers.\n",
       ">     *   `np.arange(11)` creates a 1-D array with numbers from 0 to 10.\n",
       ">     *   `np.array([0, 1, 2, 3, 4, 5, 6, 7, 8, 9])` creates a 1-D array from a list.\n",
       "> \n",
       "> *   **Multi-Dimensional (2-D):** Like a grid or table.\n",
       ">     *   `np.random.random((10,10))` creates a 10x10 array.\n",
       ">     *   A 1-D array can be converted into a 2-D array using the `.reshape()` method.\n",
       "> \n",
       "> You can perform various operations on these arrays, such as:\n",
       "> *   Finding the minimum and maximum values (`.min()`, `.max()`).\n",
       "> *   Calculating the mean value (`.mean()`).\n",
       "> *   Modifying elements based on a condition (e.g., replacing odd numbers with -1 or negating elements between 3 and 8)."
      ],
      "text/plain": [
       "<IPython.core.display.Markdown object>"
      ]
     },
     "metadata": {},
     "output_type": "display_data"
    }
   ],
   "source": [
    "from IPython.display import display, Markdown\n",
    "import textwrap\n",
    "\n",
    "def to_markdown(text):\n",
    "    text = text.replace('•', '  *')\n",
    "    return Markdown(textwrap.indent(text, '> ', predicate=lambda _: True))\n",
    "\n",
    "display(to_markdown(result[\"result\"]))"
   ]
  },
  {
   "cell_type": "code",
   "execution_count": 24,
   "id": "185a839d",
   "metadata": {},
   "outputs": [],
   "source": [
    "from langchain_google_genai import ChatGoogleGenerativeAI\n",
    "llm = ChatGoogleGenerativeAI(model=\"gemini-2.5-pro\", temperature=0)         "
   ]
  },
  {
   "cell_type": "code",
   "execution_count": 25,
   "id": "e072cab7",
   "metadata": {},
   "outputs": [],
   "source": [
    "from langchain.chains import RetrievalQA"
   ]
  },
  {
   "cell_type": "code",
   "execution_count": 26,
   "id": "3fec5319",
   "metadata": {},
   "outputs": [],
   "source": [
    "qa_chain = RetrievalQA.from_chain_type(\n",
    "    llm,\n",
    "    retriever=vectordb.as_retriever()\n",
    ")"
   ]
  },
  {
   "cell_type": "code",
   "execution_count": 27,
   "id": "7da48471",
   "metadata": {},
   "outputs": [],
   "source": [
    "result = qa_chain({\"query\": question})"
   ]
  },
  {
   "cell_type": "code",
   "execution_count": null,
   "id": "cf3380b6",
   "metadata": {},
   "outputs": [
    {
     "data": {
      "text/plain": [
       "'Based on the context provided, an `np array` refers to an array created using the **NumPy** library in Python, where `np` is the conventional alias for NumPy (as seen in `import numpy as np`).\\n\\nFrom the examples, we can see that an `np array` is a data structure that can be:\\n\\n*   **1-Dimensional (1-D):** Like a list of numbers.\\n    *   `np.arange(11)` creates a 1-D array with numbers from 0 to 10.\\n    *   `np.array([0, 1, 2, 3, 4, 5, 6, 7, 8, 9])` creates a 1-D array from a list.\\n\\n*   **Multi-Dimensional (2-D):** Like a grid or table.\\n    *   `np.random.random((10,10))` creates a 10x10 array.\\n    *   A 1-D array can be converted into a 2-D array using the `.reshape()` method.\\n\\nYou can perform various operations on these arrays, such as:\\n*   Finding the minimum and maximum values (`.min()`, `.max()`).\\n*   Calculating the mean value (`.mean()`).\\n*   Modifying elements based on a condition (e.g., replacing odd numbers with -1 or negating elements between 3 and 8).'"
      ]
     },
     "execution_count": 28,
     "metadata": {},
     "output_type": "execute_result"
    }
   ],
   "source": [
    "result = result[\"result\"]"
   ]
  },
  {
   "cell_type": "code",
   "execution_count": 29,
   "id": "4bf4a46a",
   "metadata": {},
   "outputs": [
    {
     "name": "stdout",
     "output_type": "stream",
     "text": [
      "{'query': 'what is np array', 'result': 'Based on the context provided, an `np array` refers to an array created using the **NumPy** library in Python, where `np` is the conventional alias for NumPy (as seen in `import numpy as np`).\\n\\nFrom the examples, we can see that an `np array` is a data structure that can be:\\n\\n*   **1-Dimensional (1-D):** Like a list of numbers.\\n    *   `np.arange(11)` creates a 1-D array with numbers from 0 to 10.\\n    *   `np.array([0, 1, 2, 3, 4, 5, 6, 7, 8, 9])` creates a 1-D array from a list.\\n\\n*   **Multi-Dimensional (2-D):** Like a grid or table.\\n    *   `np.random.random((10,10))` creates a 10x10 array.\\n    *   A 1-D array can be converted into a 2-D array using the `.reshape()` method.\\n\\nYou can perform various operations on these arrays, such as:\\n*   Finding the minimum and maximum values (`.min()`, `.max()`).\\n*   Calculating the mean value (`.mean()`).\\n*   Modifying elements based on a condition (e.g., replacing odd numbers with -1 or negating elements between 3 and 8).'}\n"
     ]
    }
   ],
   "source": [
    "print(result)"
   ]
  },
  {
   "cell_type": "code",
   "execution_count": 31,
   "id": "20d59d70",
   "metadata": {},
   "outputs": [],
   "source": [
    "from langchain.prompts import PromptTemplate\n",
    "\n",
    "# Build prompt\n",
    "template = \"\"\"Use the following pieces of context to answer the question at the end. If you don't know the answer, just say that you don't know, don't try to make up an answer. Use three sentences maximum. Keep the answer as concise as possible. Always say \"thanks for asking!\" at the end of the answer. \n",
    "{context}\n",
    "Question: {question}\n",
    "Helpful Answer:\"\"\"\n",
    "QA_CHAIN_PROMPT = PromptTemplate.from_template(template)"
   ]
  },
  {
   "cell_type": "code",
   "execution_count": 32,
   "id": "54948799",
   "metadata": {},
   "outputs": [],
   "source": [
    "# Run chain\n",
    "qa_chain = RetrievalQA.from_chain_type(\n",
    "    llm,\n",
    "    retriever=vectordb.as_retriever(),\n",
    "    return_source_documents=True,\n",
    "    chain_type_kwargs={\"prompt\": QA_CHAIN_PROMPT}\n",
    ")"
   ]
  },
  {
   "cell_type": "code",
   "execution_count": 33,
   "id": "22c6ba79",
   "metadata": {},
   "outputs": [],
   "source": [
    "question = \"What are Learning algorithms?\""
   ]
  },
  {
   "cell_type": "code",
   "execution_count": 34,
   "id": "bc117c50",
   "metadata": {},
   "outputs": [],
   "source": [
    "qa_chain_mr = RetrievalQA.from_chain_type(\n",
    "    llm,\n",
    "    retriever=vectordb.as_retriever(),\n",
    "    chain_type=\"map_reduce\"\n",
    ")"
   ]
  },
  {
   "cell_type": "code",
   "execution_count": 35,
   "id": "cd76b766",
   "metadata": {},
   "outputs": [],
   "source": [
    "result = qa_chain_mr({\"query\": question})"
   ]
  },
  {
   "cell_type": "code",
   "execution_count": 36,
   "id": "d080a5bf",
   "metadata": {},
   "outputs": [
    {
     "data": {
      "text/markdown": [
       "> Based on the provided text, there is no information about Learning algorithms."
      ],
      "text/plain": [
       "<IPython.core.display.Markdown object>"
      ]
     },
     "metadata": {},
     "output_type": "display_data"
    }
   ],
   "source": [
    "display(to_markdown(result[\"result\"]))"
   ]
  },
  {
   "cell_type": "code",
   "execution_count": 37,
   "id": "a7d8320c",
   "metadata": {},
   "outputs": [],
   "source": [
    "#adding memory "
   ]
  },
  {
   "cell_type": "code",
   "execution_count": 58,
   "id": "5c018795",
   "metadata": {},
   "outputs": [],
   "source": [
    "# Build prompt\n",
    "from langchain.prompts import PromptTemplate\n",
    "template = \"\"\"Use the following pieces of context to answer the question at the end. If you don't know the answer, just say that you don't know, don't try to make up an answer. Use three sentences maximum. Keep the answer as concise as possible. Always say \"thanks for asking!\" at the end of the answer. \n",
    "{context}\n",
    "Question: {question}\n",
    "Helpful answer:\"\"\"\n",
    "QA_CHAIN_PROMPT = PromptTemplate(input_variables=[\"context\", \"question\"],template=template,)\n",
    "\n",
    "# Run chain\n",
    "from langchain.chains import RetrievalQA\n",
    "question = \"Is probability a class topic?\"\n",
    "qa_chain = RetrievalQA.from_chain_type(llm,\n",
    "                                       retriever=vectordb.as_retriever(),\n",
    "                                       return_source_documents=True,\n",
    "                                       chain_type_kwargs={\"prompt\": QA_CHAIN_PROMPT})\n",
    "\n"
   ]
  },
  {
   "cell_type": "code",
   "execution_count": 59,
   "id": "70bff9d2",
   "metadata": {},
   "outputs": [],
   "source": [
    "from langchain.memory import ConversationBufferMemory\n",
    "memory = ConversationBufferMemory(\n",
    "    memory_key=\"chat_history\",\n",
    "    return_messages=True\n",
    ")"
   ]
  },
  {
   "cell_type": "code",
   "execution_count": 60,
   "id": "aab6b2c8",
   "metadata": {},
   "outputs": [],
   "source": [
    "from langchain.chains import ConversationalRetrievalChain\n",
    "retriever=vectordb.as_retriever()\n",
    "qa = ConversationalRetrievalChain.from_llm(\n",
    "    llm,\n",
    "    retriever=retriever,\n",
    "    memory=memory\n",
    ")"
   ]
  },
  {
   "cell_type": "code",
   "execution_count": 67,
   "id": "4c8a298c",
   "metadata": {},
   "outputs": [],
   "source": [
    "question = \"Give me example code for numpy?\"\n",
    "result = qa({\"question\": question})"
   ]
  },
  {
   "cell_type": "code",
   "execution_count": 68,
   "id": "2a817d2d",
   "metadata": {},
   "outputs": [
    {
     "data": {
      "text/markdown": [
       "> Based on the context provided, here are several examples of code for numpy.\n",
       "> \n",
       "> **1. Negate all elements in a 1D array that are between 3 and 8**\n",
       "> ```python\n",
       "> import numpy as np\n",
       "> \n",
       "> Z = np.arange(11) \n",
       "> Z[(3 < Z) & (Z <= 8)] *= -1\n",
       "> ```\n",
       "> \n",
       "> **2. Create a 10x10 array with random values and find the minimum and maximum values**\n",
       "> ```python\n",
       "> import numpy as np\n",
       "> \n",
       "> Z = np.random.random((10,10)) \n",
       "> Zmin, Zmax = Z.min(), Z.max() \n",
       "> print(Zmin, Zmax)\n",
       "> ```\n",
       "> \n",
       "> **3. Convert a 1-D array into a 2-D array with 3 rows**\n",
       "> ```python\n",
       "> import numpy as np \n",
       "> \n",
       "> exercise_2 = np.array([0, 1, 2, 3, 4, 5, 6, 7, 8]) \n",
       "> print(\"The original array: \\n\", exercise_2, \"\\n\") \n",
       "> \n",
       "> print(\"Method 1: \\n\", exercise_2.reshape(3,-1), \"\\n\") \n",
       "> print(\"Method 2: \\n\", exercise_2.reshape(3,3))\n",
       "> ```\n",
       "> \n",
       "> **4. Replace all odd numbers in an array with -1**\n",
       "> ```python\n",
       "> import numpy as np \n",
       "> \n",
       "> exercise_1 = np.array([0, 1, 2, 3, 4, 5, 6, 7, 8, 9]) \n",
       "> exercise_1[exercise_1 % 2 == 1] = -1 \n",
       "> print(exercise_1)\n",
       "> ```\n",
       "> \n",
       "> **5. Generate a 1-D array of 10 random integers between 30 and 40 (inclusive)**\n",
       "> ```python\n",
       "> import numpy as np \n",
       "> \n",
       "> exercise_4 = np.random.randint(30, 41, size = (10)) \n",
       "> print(exercise_4)\n",
       "> ```\n",
       "> \n",
       "> **6. Create a random vector of size 30 and find the mean value**\n",
       "> ```python\n",
       "> import numpy as np\n",
       "> \n",
       "> Z = np.random.random(30) \n",
       "> m = Z.mean() \n",
       "> print(m)\n",
       "> ```"
      ],
      "text/plain": [
       "<IPython.core.display.Markdown object>"
      ]
     },
     "execution_count": 68,
     "metadata": {},
     "output_type": "execute_result"
    }
   ],
   "source": [
    "to_markdown(result[\"answer\"])"
   ]
  },
  {
   "cell_type": "code",
   "execution_count": 63,
   "id": "ab55fe45",
   "metadata": {},
   "outputs": [],
   "source": [
    "question = \"it belongs to python?\"\n",
    "result = qa({\"question\": question})"
   ]
  },
  {
   "cell_type": "code",
   "execution_count": 71,
   "id": "ed4c693b",
   "metadata": {},
   "outputs": [
    {
     "data": {
      "text/markdown": [
       "> Based on the context provided, here are several examples of code for numpy.\n",
       "> \n",
       "> **1. Negate all elements in a 1D array that are between 3 and 8**\n",
       "> ```python\n",
       "> import numpy as np\n",
       "> \n",
       "> Z = np.arange(11) \n",
       "> Z[(3 < Z) & (Z <= 8)] *= -1\n",
       "> ```\n",
       "> \n",
       "> **2. Create a 10x10 array with random values and find the minimum and maximum values**\n",
       "> ```python\n",
       "> import numpy as np\n",
       "> \n",
       "> Z = np.random.random((10,10)) \n",
       "> Zmin, Zmax = Z.min(), Z.max() \n",
       "> print(Zmin, Zmax)\n",
       "> ```\n",
       "> \n",
       "> **3. Convert a 1-D array into a 2-D array with 3 rows**\n",
       "> ```python\n",
       "> import numpy as np \n",
       "> \n",
       "> exercise_2 = np.array([0, 1, 2, 3, 4, 5, 6, 7, 8]) \n",
       "> print(\"The original array: \\n\", exercise_2, \"\\n\") \n",
       "> \n",
       "> print(\"Method 1: \\n\", exercise_2.reshape(3,-1), \"\\n\") \n",
       "> print(\"Method 2: \\n\", exercise_2.reshape(3,3))\n",
       "> ```\n",
       "> \n",
       "> **4. Replace all odd numbers in an array with -1**\n",
       "> ```python\n",
       "> import numpy as np \n",
       "> \n",
       "> exercise_1 = np.array([0, 1, 2, 3, 4, 5, 6, 7, 8, 9]) \n",
       "> exercise_1[exercise_1 % 2 == 1] = -1 \n",
       "> print(exercise_1)\n",
       "> ```\n",
       "> \n",
       "> **5. Generate a 1-D array of 10 random integers between 30 and 40 (inclusive)**\n",
       "> ```python\n",
       "> import numpy as np \n",
       "> \n",
       "> exercise_4 = np.random.randint(30, 41, size = (10)) \n",
       "> print(exercise_4)\n",
       "> ```\n",
       "> \n",
       "> **6. Create a random vector of size 30 and find the mean value**\n",
       "> ```python\n",
       "> import numpy as np\n",
       "> \n",
       "> Z = np.random.random(30) \n",
       "> m = Z.mean() \n",
       "> print(m)\n",
       "> ```"
      ],
      "text/plain": [
       "<IPython.core.display.Markdown object>"
      ]
     },
     "metadata": {},
     "output_type": "display_data"
    }
   ],
   "source": [
    "display(to_markdown(result[\"answer\"]))"
   ]
  },
  {
   "cell_type": "markdown",
   "id": "bd05245c",
   "metadata": {},
   "source": [
    "### ✅ Why `result[\"answer\"]` works in your code:\n",
    "\n",
    "When you run this:\n",
    "\n",
    "```python\n",
    "result = qa({\"question\": question})\n",
    "```\n",
    "\n",
    "You're calling the `__call__()` method of the `ConversationalRetrievalChain` object. This chain **automatically returns a dictionary** with keys like `\"answer\"`, and optionally `\"source_documents\"`, etc.\n",
    "\n",
    "Even though **you didn't manually define the structure of the output**, LangChain handles this internally.\n",
    "\n",
    "---\n",
    "\n",
    "### ✅ Where does the `\"answer\"` key come from?\n",
    "\n",
    "LangChain's `ConversationalRetrievalChain` uses this process:\n",
    "\n",
    "1. **Takes the input** (your question + memory).\n",
    "2. **Fetches context** using `retriever` from `vectordb`.\n",
    "3. **Builds a prompt** using the context and question.\n",
    "4. **Sends it to the `llm`** (e.g., OpenAI, Gemini, etc.).\n",
    "5. **Returns a dictionary**, usually:\n",
    "\n",
    "   ```python\n",
    "   {\n",
    "       \"answer\": \"Generated answer string\",\n",
    "       \"source_documents\": [...],\n",
    "       ...\n",
    "   }\n",
    "   ```\n",
    "\n",
    "Even if you don't see a key called `\"answer\"` explicitly written, the internal chain is designed to return that.\n",
    "\n",
    "---\n",
    "\n",
    "### 🧠 Summary\n",
    "\n",
    "* The `\"answer\"` key is returned by the `ConversationalRetrievalChain`, **internally defined by LangChain**.\n",
    "* It uses your prompt template (in `QA_CHAIN_PROMPT`) but wraps it into a more complex chain that supports **conversation memory** and **context-aware answering**.\n",
    "* You can print the entire `result` dictionary to see what else it returns:\n",
    "\n",
    "  ```python\n",
    "  print(result)\n",
    "  ```\n"
   ]
  },
  {
   "cell_type": "markdown",
   "id": "f4ebd76b",
   "metadata": {},
   "source": []
  }
 ],
 "metadata": {
  "kernelspec": {
   "display_name": "Python 3",
   "language": "python",
   "name": "python3"
  },
  "language_info": {
   "codemirror_mode": {
    "name": "ipython",
    "version": 3
   },
   "file_extension": ".py",
   "mimetype": "text/x-python",
   "name": "python",
   "nbconvert_exporter": "python",
   "pygments_lexer": "ipython3",
   "version": "3.13.5"
  }
 },
 "nbformat": 4,
 "nbformat_minor": 5
}
