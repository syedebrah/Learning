{
 "cells": [
  {
   "cell_type": "code",
   "execution_count": 1,
   "id": "acf524e6",
   "metadata": {},
   "outputs": [],
   "source": [
    "import requests\n",
    "import json"
   ]
  },
  {
   "cell_type": "code",
   "execution_count": 2,
   "id": "9b1b4020",
   "metadata": {},
   "outputs": [
    {
     "name": "stdout",
     "output_type": "stream",
     "text": [
      "Weather in Chennai:\n",
      "Temperature: 31.1°C\n",
      "Feels Like: 36.12°C\n",
      "Humidity: 64%\n",
      "Description: Overcast clouds\n",
      "Wind Speed: 5.51 m/s\n"
     ]
    }
   ],
   "source": [
    "import requests\n",
    "import json\n",
    "\n",
    "def get_weather_data(city, api_key):\n",
    "    base_url = \"http://api.openweathermap.org/data/2.5/weather\"\n",
    "    params = {\n",
    "        \"q\": city,\n",
    "        \"appid\": api_key,\n",
    "        \"units\": \"metric\"  # For Celsius\n",
    "    }\n",
    "    \n",
    "    try:\n",
    "        response = requests.get(base_url, params=params)\n",
    "        response.raise_for_status()  # Raise an error for bad responses\n",
    "        data = response.json()\n",
    "        \n",
    "        # Extract relevant weather information\n",
    "        weather = {\n",
    "            \"city\": data[\"name\"],\n",
    "            \"temperature\": data[\"main\"][\"temp\"],\n",
    "            \"feels_like\": data[\"main\"][\"feels_like\"],\n",
    "            \"humidity\": data[\"main\"][\"humidity\"],\n",
    "            \"description\": data[\"weather\"][0][\"description\"],\n",
    "            \"wind_speed\": data[\"wind\"][\"speed\"]\n",
    "        }\n",
    "        \n",
    "        return weather\n",
    "    \n",
    "    except requests.exceptions.RequestException as e:\n",
    "        print(f\"Error fetching weather data: {e}\")\n",
    "        return None\n",
    "\n",
    "def display_weather(weather):\n",
    "    if weather:\n",
    "        print(f\"Weather in {weather['city']}:\")\n",
    "        print(f\"Temperature: {weather['temperature']}°C\")\n",
    "        print(f\"Feels Like: {weather['feels_like']}°C\")\n",
    "        print(f\"Humidity: {weather['humidity']}%\")\n",
    "        print(f\"Description: {weather['description'].capitalize()}\")\n",
    "        print(f\"Wind Speed: {weather['wind_speed']} m/s\")\n",
    "    else:\n",
    "        print(\"Could not retrieve weather data.\")\n",
    "\n",
    "def main():\n",
    "    api_key = \"154146ec70f4c3a5ce6cbdceda47dca1\"  # Replace with your OpenWeatherMap API key\n",
    "    city = \"Chennai,IN\"  # Specify country code for accuracy\n",
    "    \n",
    "    weather_data = get_weather_data(city, api_key)\n",
    "    display_weather(weather_data)\n",
    "\n",
    "if __name__ == \"__main__\":\n",
    "    main()"
   ]
  },
  {
   "cell_type": "code",
   "execution_count": null,
   "id": "12d7c721",
   "metadata": {},
   "outputs": [],
   "source": []
  }
 ],
 "metadata": {
  "kernelspec": {
   "display_name": "Python 3",
   "language": "python",
   "name": "python3"
  },
  "language_info": {
   "codemirror_mode": {
    "name": "ipython",
    "version": 3
   },
   "file_extension": ".py",
   "mimetype": "text/x-python",
   "name": "python",
   "nbconvert_exporter": "python",
   "pygments_lexer": "ipython3",
   "version": "3.13.5"
  }
 },
 "nbformat": 4,
 "nbformat_minor": 5
}
